{
 "cells": [
  {
   "cell_type": "code",
   "execution_count": 1,
   "id": "d998e535-0f61-4889-9954-80bdfbac312f",
   "metadata": {},
   "outputs": [],
   "source": [
    "PROMPT_ID = 'labor_market_v1'\n",
    "CLASSIFY_TARGET = 'job_search_status'\n",
    "\n",
    "import torch\n",
    "import torch.nn.functional as F\n",
    "import numpy as np\n",
    "import pandas as pd\n",
    "from tqdm import tqdm\n",
    "import plotly\n",
    "\n",
    "device = torch.device('cuda')"
   ]
  },
  {
   "cell_type": "markdown",
   "id": "495bac04-fa74-403a-9fdb-18c7b8789f1c",
   "metadata": {},
   "source": [
    "## Get Data"
   ]
  },
  {
   "cell_type": "code",
   "execution_count": 2,
   "id": "65b7a91f-3eaf-431b-be73-5ede44131c04",
   "metadata": {},
   "outputs": [],
   "source": [
    "# Get label encodings\n",
    "import yaml\n",
    "with open('label_maps.yaml', 'r') as file:\n",
    "    yaml_dict = [x for x in yaml.safe_load(file)[PROMPT_ID] if x['model'] == CLASSIFY_TARGET][0]\n",
    "\n",
    "label_encoding_map = pd.DataFrame.from_dict(yaml_dict['map'])\n",
    "test_examples = yaml_dict['examples']"
   ]
  },
  {
   "cell_type": "code",
   "execution_count": 3,
   "id": "a8d9d7c5-ed8f-4711-961d-62a446a5d92d",
   "metadata": {
    "scrolled": true
   },
   "outputs": [
    {
     "data": {
      "text/html": [
       "<div>\n",
       "<style scoped>\n",
       "    .dataframe tbody tr th:only-of-type {\n",
       "        vertical-align: middle;\n",
       "    }\n",
       "\n",
       "    .dataframe tbody tr th {\n",
       "        vertical-align: top;\n",
       "    }\n",
       "\n",
       "    .dataframe thead th {\n",
       "        text-align: right;\n",
       "    }\n",
       "</style>\n",
       "<table border=\"1\" class=\"dataframe\">\n",
       "  <thead>\n",
       "    <tr style=\"text-align: right;\">\n",
       "      <th></th>\n",
       "      <th>post_id</th>\n",
       "      <th>value</th>\n",
       "      <th>rationale</th>\n",
       "      <th>input_text</th>\n",
       "      <th>label_encode</th>\n",
       "    </tr>\n",
       "  </thead>\n",
       "  <tbody>\n",
       "    <tr>\n",
       "      <th>0</th>\n",
       "      <td>t3_118xr9s</td>\n",
       "      <td>searching/considering search</td>\n",
       "      <td>The user is considering going back to the same...</td>\n",
       "      <td>Would you go back to a company you had already...</td>\n",
       "      <td>1</td>\n",
       "    </tr>\n",
       "    <tr>\n",
       "      <th>1</th>\n",
       "      <td>t3_rwpsfy</td>\n",
       "      <td>searching/considering search</td>\n",
       "      <td>The user expresses frustration with talent acq...</td>\n",
       "      <td>MY RESUME OUTLINES MY EXPERIENCE, SO DO NOT SE...</td>\n",
       "      <td>1</td>\n",
       "    </tr>\n",
       "    <tr>\n",
       "      <th>2</th>\n",
       "      <td>t3_10p8ox3</td>\n",
       "      <td>searching/considering search</td>\n",
       "      <td>The user is considering leaving their current ...</td>\n",
       "      <td>Wait to be fired or quit?\\nLong story short—I ...</td>\n",
       "      <td>1</td>\n",
       "    </tr>\n",
       "    <tr>\n",
       "      <th>3</th>\n",
       "      <td>t3_17japq3</td>\n",
       "      <td>searching/considering search</td>\n",
       "      <td>The user is considering leaving their current ...</td>\n",
       "      <td>My boss is always shouting at me\\nHello, I jus...</td>\n",
       "      <td>1</td>\n",
       "    </tr>\n",
       "    <tr>\n",
       "      <th>4</th>\n",
       "      <td>t3_vh2pl2</td>\n",
       "      <td>searching/considering search</td>\n",
       "      <td>The user mentions struggling to find a part-ti...</td>\n",
       "      <td>How the hell do I get a job as a 15 year old w...</td>\n",
       "      <td>1</td>\n",
       "    </tr>\n",
       "    <tr>\n",
       "      <th>...</th>\n",
       "      <td>...</td>\n",
       "      <td>...</td>\n",
       "      <td>...</td>\n",
       "      <td>...</td>\n",
       "      <td>...</td>\n",
       "    </tr>\n",
       "    <tr>\n",
       "      <th>14361</th>\n",
       "      <td>t3_lq60i8</td>\n",
       "      <td>received offer/started new job</td>\n",
       "      <td>The user mentions they have received an \"offer...</td>\n",
       "      <td>I got a job\\nAs an international student in US...</td>\n",
       "      <td>0</td>\n",
       "    </tr>\n",
       "    <tr>\n",
       "      <th>14362</th>\n",
       "      <td>t3_rqjfvb</td>\n",
       "      <td>received offer/started new job</td>\n",
       "      <td>The user mentions finally landing an offer aft...</td>\n",
       "      <td>After 3 months of searching, I finally got an ...</td>\n",
       "      <td>0</td>\n",
       "    </tr>\n",
       "    <tr>\n",
       "      <th>14363</th>\n",
       "      <td>t3_hw6ysg</td>\n",
       "      <td>received offer/started new job</td>\n",
       "      <td>The user mentions receiving an offer and being...</td>\n",
       "      <td>First Entry-level Job\\nI got an official offer...</td>\n",
       "      <td>0</td>\n",
       "    </tr>\n",
       "    <tr>\n",
       "      <th>14364</th>\n",
       "      <td>t3_r4jnvs</td>\n",
       "      <td>received offer/started new job</td>\n",
       "      <td>The user is nervous about starting their new job.</td>\n",
       "      <td>How do you deal with not being so nervous?\\nSo...</td>\n",
       "      <td>0</td>\n",
       "    </tr>\n",
       "    <tr>\n",
       "      <th>14365</th>\n",
       "      <td>t3_mhzcx4</td>\n",
       "      <td>received offer/started new job</td>\n",
       "      <td>The user states they have landed a job they're...</td>\n",
       "      <td>After a nearly 3 year gap from full time work,...</td>\n",
       "      <td>0</td>\n",
       "    </tr>\n",
       "  </tbody>\n",
       "</table>\n",
       "<p>14366 rows × 5 columns</p>\n",
       "</div>"
      ],
      "text/plain": [
       "          post_id                           value  \\\n",
       "0      t3_118xr9s    searching/considering search   \n",
       "1       t3_rwpsfy    searching/considering search   \n",
       "2      t3_10p8ox3    searching/considering search   \n",
       "3      t3_17japq3    searching/considering search   \n",
       "4       t3_vh2pl2    searching/considering search   \n",
       "...           ...                             ...   \n",
       "14361   t3_lq60i8  received offer/started new job   \n",
       "14362   t3_rqjfvb  received offer/started new job   \n",
       "14363   t3_hw6ysg  received offer/started new job   \n",
       "14364   t3_r4jnvs  received offer/started new job   \n",
       "14365   t3_mhzcx4  received offer/started new job   \n",
       "\n",
       "                                               rationale  \\\n",
       "0      The user is considering going back to the same...   \n",
       "1      The user expresses frustration with talent acq...   \n",
       "2      The user is considering leaving their current ...   \n",
       "3      The user is considering leaving their current ...   \n",
       "4      The user mentions struggling to find a part-ti...   \n",
       "...                                                  ...   \n",
       "14361  The user mentions they have received an \"offer...   \n",
       "14362  The user mentions finally landing an offer aft...   \n",
       "14363  The user mentions receiving an offer and being...   \n",
       "14364  The user is nervous about starting their new job.   \n",
       "14365  The user states they have landed a job they're...   \n",
       "\n",
       "                                              input_text  label_encode  \n",
       "0      Would you go back to a company you had already...             1  \n",
       "1      MY RESUME OUTLINES MY EXPERIENCE, SO DO NOT SE...             1  \n",
       "2      Wait to be fired or quit?\\nLong story short—I ...             1  \n",
       "3      My boss is always shouting at me\\nHello, I jus...             1  \n",
       "4      How the hell do I get a job as a 15 year old w...             1  \n",
       "...                                                  ...           ...  \n",
       "14361  I got a job\\nAs an international student in US...             0  \n",
       "14362  After 3 months of searching, I finally got an ...             0  \n",
       "14363  First Entry-level Job\\nI got an official offer...             0  \n",
       "14364  How do you deal with not being so nervous?\\nSo...             0  \n",
       "14365  After a nearly 3 year gap from full time work,...             0  \n",
       "\n",
       "[14366 rows x 5 columns]"
      ]
     },
     "execution_count": 3,
     "metadata": {},
     "output_type": "execute_result"
    }
   ],
   "source": [
    "# Get data\n",
    "from helpers.db import get_postgres_query\n",
    "\n",
    "input_data = get_postgres_query(\n",
    "    f\"\"\"\n",
    "    WITH t0 AS (\n",
    "        SELECT \n",
    "            a.post_id, a.label_value AS value, a.label_rationale AS rationale,\n",
    "            CONCAT(TRIM(b.title), '\\n', REGEXP_REPLACE(TRIM(b.selftext), '[\\t\\n\\r]', ' ', 'g')) AS input_text\n",
    "        FROM text_scraper_reddit_llm_scores_v2 a\n",
    "        INNER JOIN text_scraper_reddit_scrapes b\n",
    "            ON a.scrape_id = b.scrape_id\n",
    "        WHERE a.PROMPT_ID = '{PROMPT_ID}' AND a.label_key = '{CLASSIFY_TARGET}'\n",
    "    )\n",
    "    -- Select where expected token count <= 512\n",
    "    SELECT * FROM t0\n",
    "    WHERE ARRAY_LENGTH(REGEXP_SPLIT_TO_ARRAY(input_text, '\\\\s+'), 1) * 1.5 <= 512\n",
    "    \"\"\"\n",
    "    ).merge(label_encoding_map, how = 'inner', on = 'value')\n",
    "\n",
    "input_data"
   ]
  },
  {
   "cell_type": "markdown",
   "id": "42bfc4c5-bff1-4697-9e6b-5c7034b5786c",
   "metadata": {},
   "source": [
    "## Get Base Model"
   ]
  },
  {
   "cell_type": "code",
   "execution_count": 4,
   "id": "5a561cbc-78ce-4659-b959-61f28de1772a",
   "metadata": {},
   "outputs": [
    {
     "name": "stderr",
     "output_type": "stream",
     "text": [
      "Some weights of AlbertForSequenceClassification were not initialized from the model checkpoint at albert-base-v2 and are newly initialized: ['classifier.weight', 'classifier.bias']\n",
      "You should probably TRAIN this model on a down-stream task to be able to use it for predictions and inference.\n"
     ]
    },
    {
     "data": {
      "text/plain": [
       "11685891"
      ]
     },
     "execution_count": 4,
     "metadata": {},
     "output_type": "execute_result"
    }
   ],
   "source": [
    "from transformers import AlbertTokenizer, AlbertForSequenceClassification\n",
    "# from transformers import RobertaTokenizer, RobertaForSequenceClassification\n",
    "\n",
    "tokenizer = AlbertTokenizer.from_pretrained('albert-base-v2')\n",
    "model = AlbertForSequenceClassification.from_pretrained('albert-base-v2', num_labels = len(label_encoding_map)).to(device)\n",
    "\n",
    "# Num params\n",
    "sum(p.numel() for p in model.parameters())"
   ]
  },
  {
   "cell_type": "markdown",
   "id": "62d85c79-8f1f-4ed2-985a-a877f324fe0e",
   "metadata": {},
   "source": [
    "## Create Datasets & Loader"
   ]
  },
  {
   "cell_type": "code",
   "execution_count": 5,
   "id": "ce0a7f61-6955-4918-920e-5ef55223cad1",
   "metadata": {},
   "outputs": [],
   "source": [
    "from torch.utils.data import Dataset, DataLoader\n",
    "from sklearn.model_selection import train_test_split\n",
    "\n",
    "# Batch size\n",
    "B = 16\n",
    "\n",
    "class TextDataset(Dataset):\n",
    "    \n",
    "    def __init__(self, tokenizer, texts, labels = None):\n",
    "        self.tokenizer = tokenizer\n",
    "        self.texts = texts\n",
    "        self.inputs = self.tokenize_and_encode()\n",
    "        \n",
    "        if labels is not None:\n",
    "            self.labels = torch.tensor(labels, dtype = torch.long)\n",
    "        else:\n",
    "            self.labels = None\n",
    "        \n",
    "    def __len__(self):\n",
    "        return len(self.texts)\n",
    "        \n",
    "    def tokenize_and_encode(self):\n",
    "        return self.tokenizer(\n",
    "            self.texts,\n",
    "            add_special_tokens = True,\n",
    "            max_length = 512,\n",
    "            truncation = True,\n",
    "            padding = 'max_length',\n",
    "            return_attention_mask = True,\n",
    "            return_tensors = 'pt'\n",
    "        )\n",
    "    \n",
    "    def __getitem__(self, idx):\n",
    "        item = {key: vals[idx] for key, vals in self.inputs.items()}\n",
    "        if self.labels is not None:\n",
    "            item['labels'] = self.labels[idx]\n",
    "        return item\n",
    "\n",
    "train_df, val_df = train_test_split(input_data, test_size = .2, random_state = 1)\n",
    "train_ds, val_ds = [TextDataset(tokenizer, x['input_text'].tolist(), x['label_encode'].tolist()) for x in [train_df, val_df]]\n",
    "train_dl, val_dl = [DataLoader(x, batch_size = B) for x in [train_ds, val_ds]]"
   ]
  },
  {
   "cell_type": "code",
   "execution_count": 6,
   "id": "4c392730-58c7-40b8-b5e2-25905f88bdfb",
   "metadata": {},
   "outputs": [],
   "source": [
    "# 0 = received offer/started new job\n",
    "# 1 = searching/considering search\n",
    "# 2 = not/unknown\n",
    "# print(val_ds.texts[6], val_ds.labels[6])"
   ]
  },
  {
   "cell_type": "code",
   "execution_count": 7,
   "id": "8a77ea3e-44b3-42c6-8f0c-e029c46225b6",
   "metadata": {},
   "outputs": [
    {
     "data": {
      "text/html": [
       "<div>\n",
       "<style scoped>\n",
       "    .dataframe tbody tr th:only-of-type {\n",
       "        vertical-align: middle;\n",
       "    }\n",
       "\n",
       "    .dataframe tbody tr th {\n",
       "        vertical-align: top;\n",
       "    }\n",
       "\n",
       "    .dataframe thead th {\n",
       "        text-align: right;\n",
       "    }\n",
       "</style>\n",
       "<table border=\"1\" class=\"dataframe\">\n",
       "  <thead>\n",
       "    <tr style=\"text-align: right;\">\n",
       "      <th></th>\n",
       "      <th>post_id</th>\n",
       "      <th>value</th>\n",
       "      <th>rationale</th>\n",
       "      <th>input_text</th>\n",
       "      <th>label_encode</th>\n",
       "    </tr>\n",
       "  </thead>\n",
       "  <tbody>\n",
       "    <tr>\n",
       "      <th>10405</th>\n",
       "      <td>t3_kdb2jo</td>\n",
       "      <td>searching/considering search</td>\n",
       "      <td>The user is curious about what makes recruiter...</td>\n",
       "      <td>Recruiters from reddit: what makes you throw a...</td>\n",
       "      <td>1</td>\n",
       "    </tr>\n",
       "  </tbody>\n",
       "</table>\n",
       "</div>"
      ],
      "text/plain": [
       "         post_id                         value  \\\n",
       "10405  t3_kdb2jo  searching/considering search   \n",
       "\n",
       "                                               rationale  \\\n",
       "10405  The user is curious about what makes recruiter...   \n",
       "\n",
       "                                              input_text  label_encode  \n",
       "10405  Recruiters from reddit: what makes you throw a...             1  "
      ]
     },
     "execution_count": 7,
     "metadata": {},
     "output_type": "execute_result"
    }
   ],
   "source": [
    "val_df.head(1)"
   ]
  },
  {
   "cell_type": "markdown",
   "id": "70851791-8bfe-4e07-8c18-e411e31153a7",
   "metadata": {},
   "source": [
    "## Create Eval Functions"
   ]
  },
  {
   "cell_type": "code",
   "execution_count": 8,
   "id": "80490ae2-1492-47af-a229-be9d9c6e627a",
   "metadata": {},
   "outputs": [
    {
     "name": "stderr",
     "output_type": "stream",
     "text": [
      "2874it [01:04, 44.53it/s]\n"
     ]
    },
    {
     "data": {
      "text/plain": [
       "{'mean_nll': 0.8969689, 'accuracy': 0.7581767571329158, 'count': 2874}"
      ]
     },
     "execution_count": 8,
     "metadata": {},
     "output_type": "execute_result"
    }
   ],
   "source": [
    "torch.cuda.empty_cache()\n",
    "\n",
    "@torch.no_grad()\n",
    "def eval_performance_on_ds(model, ds, batch_size = 16):\n",
    "    \"\"\"\n",
    "    Test model performance on evaluation set.\n",
    "    \"\"\"\n",
    "    model.eval()\n",
    "    total_obs = 0\n",
    "    total_correct = 0\n",
    "    nlls = []\n",
    "\n",
    "    dl = DataLoader(ds, batch_size = batch_size, shuffle = True)\n",
    "    \n",
    "    for step, b in tqdm(enumerate(dl)):\n",
    "        outputs = model(b['input_ids'].to(device), b['attention_mask'].to(device))\n",
    "        logits = outputs['logits'].cpu()\n",
    "        label_ids = b['labels'].cpu()\n",
    "        \n",
    "        total_obs += len(label_ids)\n",
    "        total_correct += np.sum(np.where(np.argmax(logits, axis = 1) == label_ids, 1, 0))\n",
    "        nlls.append(F.cross_entropy(logits, label_ids))\n",
    "    \n",
    "    res = {'mean_nll': np.mean(nlls), 'accuracy': total_correct/total_obs, 'count': total_obs}\n",
    "    return res\n",
    "\n",
    "eval_performance_on_ds(model, val_ds, batch_size = 1)"
   ]
  },
  {
   "cell_type": "code",
   "execution_count": 9,
   "id": "383cbbc1-ae63-4b6e-8a46-c6f9e562856c",
   "metadata": {},
   "outputs": [
    {
     "name": "stdout",
     "output_type": "stream",
     "text": [
      "Correct: 2/6\n",
      "❌ [0.25] - Started searching for jobs and struggling\n",
      "❌ [0.28] - Just received a new job offer!\n",
      "✅ [0.5] - My job is paying my coworker more than me. What do I do?\n",
      "✅ [0.47] - Recruiters really tick me off\n",
      "Its 9am on a weekend and I'm already ticked off. I came across a post on LinkedIn that said recruiters should dress up as ghosts because they ghost candidates. Do recruiters really think this kind of stuff is funny?\n",
      "❌ [0.22] - Emotionally exhausted from this BS market\n",
      "I just need to rant. I never cried so much within a week until now. I have bills to pay, rent is over 2k for a studio, there are no jobs here. I am so tired because this job market is exhausting and everyone is saying its fine.\n",
      "❌ [0.36] - Mind blowing \"counter\" from employer\n",
      "So I'm officially employed as a sales rep on $47k/year, but I've been doing the responsibilities and tasks of the sales manager AND operations manager all year. Both of these official positions have technically been available, but my boss just hasn't bothered hiring for them. I recently got a new job that I start in 2 weeks, which is going to pay me just over $99k/year with additional benefits and allowances. The day after I resigned last week, my boss came at me with the \"official\" promotion to the role I'm doing - $55K. I declined, obviously. He seemed shocked, told me that the money shouldn't be a factor, that I've built up such a great reputation here I'd be throwing my \"career\" away (I've been there for less than 2 years). I told him that it's insulting at this point, and that if he had offered me the position a few months ago I wouldn't have started job searching and would've been elated. I advised him to reward people when it's due, not when you're going to lose them. Now as a result, the location I work at is going to be shut down because he can't find anyone to replace me and the other managers are leaving with me. Karma is sweet. \n"
     ]
    }
   ],
   "source": [
    "@torch.no_grad()\n",
    "def eval_performance_on_examples(model, examples):\n",
    "    \"\"\"\n",
    "    Run inference on a handful of predefined examples. Returns a printable string.\n",
    "    \"\"\"\n",
    "    model.eval()\n",
    "    total_correct = 0\n",
    "    str = ''\n",
    "    \n",
    "    inference_examples = [x['text'] for x in test_examples]\n",
    "    labels = [x['label'] for x in test_examples]\n",
    "    inference_dl = DataLoader(TextDataset(tokenizer, inference_examples, labels), 1, shuffle = True)\n",
    "    \n",
    "    for i, b in enumerate(inference_dl):\n",
    "        out = model(b['input_ids'].to(device), b['attention_mask'].to(device))\n",
    "        softmax = F.softmax(out['logits'].detach().cpu().flatten(), dim = 0)\n",
    "        label = b['labels'].cpu()\n",
    "\n",
    "        is_correct = 1 if np.argmax(softmax) == label else 0\n",
    "        total_correct = total_correct + is_correct\n",
    "        str += (f'\\n{\"✅\" if is_correct == 1 else \"❌\"} {softmax[label].numpy().round(2)} - {inference_examples[i]}')\n",
    "\n",
    "    return f\"Correct: {total_correct}/{len(inference_examples)}\" + str\n",
    "    \n",
    "print(eval_performance_on_examples(model, test_examples))"
   ]
  },
  {
   "cell_type": "code",
   "execution_count": 10,
   "id": "f7c47f96-ab83-4020-8e38-1df6a1bad820",
   "metadata": {},
   "outputs": [
    {
     "name": "stdout",
     "output_type": "stream",
     "text": [
      "[6.5011712, 8.589410304]\n"
     ]
    },
    {
     "data": {
      "text/plain": [
       "[6.555697152, 8.589410304]"
      ]
     },
     "execution_count": 10,
     "metadata": {},
     "output_type": "execute_result"
    }
   ],
   "source": [
    "print([x/1e9 for x in torch.cuda.mem_get_info()])\n",
    "torch.cuda.empty_cache()\n",
    "[x/1e9 for x in torch.cuda.mem_get_info()]"
   ]
  },
  {
   "cell_type": "markdown",
   "id": "7b58139a-fb03-4d2c-a6d7-8181e3c3905d",
   "metadata": {},
   "source": [
    "## Train"
   ]
  },
  {
   "cell_type": "code",
   "execution_count": 11,
   "id": "f1a2c8f6-e2b4-4aee-998a-72d8a99f916b",
   "metadata": {},
   "outputs": [],
   "source": [
    "# Saves directory\n",
    "from datetime import date\n",
    "import os\n",
    "\n",
    "save_dir = f\"saves/{str(PROMPT_ID).rjust(2, '0')}-{CLASSIFY_TARGET}-{date.today().strftime('%Y%m%d')}\"\n",
    "if not os.path.exists(save_dir):\n",
    "    os.mkdir(save_dir)"
   ]
  },
  {
   "cell_type": "code",
   "execution_count": null,
   "id": "6dd3dbf4-7ac3-4df6-a188-19bc58c3b3c7",
   "metadata": {
    "scrolled": true
   },
   "outputs": [
    {
     "data": {
      "application/vnd.jupyter.widget-view+json": {
       "model_id": "c9828c15af1144039bdc1ae222f2caee",
       "version_major": 2,
       "version_minor": 0
      },
      "text/plain": [
       "FigureWidget({\n",
       "    'data': [{'type': 'scatter', 'uid': '2684ee6f-e53b-4eb0-aea1-64dd365ff5c6', 'x': [], 'y': []}],\n",
       "    'layout': {'template': '...'}\n",
       "})"
      ]
     },
     "metadata": {},
     "output_type": "display_data"
    },
    {
     "name": "stdout",
     "output_type": "stream",
     "text": [
      "***** Epoch 0 \n"
     ]
    },
    {
     "name": "stderr",
     "output_type": "stream",
     "text": [
      "100it [11:14,  6.52s/it]"
     ]
    },
    {
     "name": "stdout",
     "output_type": "stream",
     "text": [
      "Step 100/719 | Last 50 batch train NLL: 0.690986607670784 | LR: 3e-05 | Mem: 0.2 GB\n"
     ]
    },
    {
     "name": "stderr",
     "output_type": "stream",
     "text": [
      "101it [11:20,  6.58s/it]"
     ]
    },
    {
     "name": "stdout",
     "output_type": "stream",
     "text": [
      "Correct: 2/6\n",
      "❌ [0.03] - Started searching for jobs and struggling\n",
      "✅ [0.78] - Just received a new job offer!\n",
      "❌ [0.22] - My job is paying my coworker more than me. What do I do?\n",
      "❌ [0.03] - Recruiters really tick me off\n",
      "Its 9am on a weekend and I'm already ticked off. I came across a post on LinkedIn that said recruiters should dress up as ghosts because they ghost candidates. Do recruiters really think this kind of stuff is funny?\n",
      "❌ [0.21] - Emotionally exhausted from this BS market\n",
      "I just need to rant. I never cried so much within a week until now. I have bills to pay, rent is over 2k for a studio, there are no jobs here. I am so tired because this job market is exhausting and everyone is saying its fine.\n",
      "✅ [0.77] - Mind blowing \"counter\" from employer\n",
      "So I'm officially employed as a sales rep on $47k/year, but I've been doing the responsibilities and tasks of the sales manager AND operations manager all year. Both of these official positions have technically been available, but my boss just hasn't bothered hiring for them. I recently got a new job that I start in 2 weeks, which is going to pay me just over $99k/year with additional benefits and allowances. The day after I resigned last week, my boss came at me with the \"official\" promotion to the role I'm doing - $55K. I declined, obviously. He seemed shocked, told me that the money shouldn't be a factor, that I've built up such a great reputation here I'd be throwing my \"career\" away (I've been there for less than 2 years). I told him that it's insulting at this point, and that if he had offered me the position a few months ago I wouldn't have started job searching and would've been elated. I advised him to reward people when it's due, not when you're going to lose them. Now as a result, the location I work at is going to be shut down because he can't find anyone to replace me and the other managers are leaving with me. Karma is sweet. \n"
     ]
    },
    {
     "name": "stderr",
     "output_type": "stream",
     "text": [
      "200it [32:58, 13.27s/it]"
     ]
    },
    {
     "name": "stdout",
     "output_type": "stream",
     "text": [
      "Step 200/719 | Last 50 batch train NLL: 0.7153529542684555 | LR: 3e-05 | Mem: 0.2 GB\n"
     ]
    },
    {
     "name": "stderr",
     "output_type": "stream",
     "text": [
      "201it [33:13, 13.75s/it]"
     ]
    },
    {
     "name": "stdout",
     "output_type": "stream",
     "text": [
      "Correct: 2/6\n",
      "❌ [0.31] - Started searching for jobs and struggling\n",
      "✅ [0.65] - Just received a new job offer!\n",
      "❌ [0.04] - My job is paying my coworker more than me. What do I do?\n",
      "❌ [0.31] - Recruiters really tick me off\n",
      "Its 9am on a weekend and I'm already ticked off. I came across a post on LinkedIn that said recruiters should dress up as ghosts because they ghost candidates. Do recruiters really think this kind of stuff is funny?\n",
      "❌ [0.05] - Emotionally exhausted from this BS market\n",
      "I just need to rant. I never cried so much within a week until now. I have bills to pay, rent is over 2k for a studio, there are no jobs here. I am so tired because this job market is exhausting and everyone is saying its fine.\n",
      "✅ [0.63] - Mind blowing \"counter\" from employer\n",
      "So I'm officially employed as a sales rep on $47k/year, but I've been doing the responsibilities and tasks of the sales manager AND operations manager all year. Both of these official positions have technically been available, but my boss just hasn't bothered hiring for them. I recently got a new job that I start in 2 weeks, which is going to pay me just over $99k/year with additional benefits and allowances. The day after I resigned last week, my boss came at me with the \"official\" promotion to the role I'm doing - $55K. I declined, obviously. He seemed shocked, told me that the money shouldn't be a factor, that I've built up such a great reputation here I'd be throwing my \"career\" away (I've been there for less than 2 years). I told him that it's insulting at this point, and that if he had offered me the position a few months ago I wouldn't have started job searching and would've been elated. I advised him to reward people when it's due, not when you're going to lose them. Now as a result, the location I work at is going to be shut down because he can't find anyone to replace me and the other managers are leaving with me. Karma is sweet. \n"
     ]
    },
    {
     "name": "stderr",
     "output_type": "stream",
     "text": [
      "300it [54:53, 12.94s/it]"
     ]
    },
    {
     "name": "stdout",
     "output_type": "stream",
     "text": [
      "Step 300/719 | Last 50 batch train NLL: 0.6823393821716308 | LR: 3e-05 | Mem: 0.2 GB\n"
     ]
    },
    {
     "name": "stderr",
     "output_type": "stream",
     "text": [
      "301it [55:08, 13.40s/it]"
     ]
    },
    {
     "name": "stdout",
     "output_type": "stream",
     "text": [
      "Correct: 2/6\n",
      "✅ [0.73] - Started searching for jobs and struggling\n",
      "✅ [0.73] - Just received a new job offer!\n",
      "❌ [0.23] - My job is paying my coworker more than me. What do I do?\n",
      "❌ [0.24] - Recruiters really tick me off\n",
      "Its 9am on a weekend and I'm already ticked off. I came across a post on LinkedIn that said recruiters should dress up as ghosts because they ghost candidates. Do recruiters really think this kind of stuff is funny?\n",
      "❌ [0.04] - Emotionally exhausted from this BS market\n",
      "I just need to rant. I never cried so much within a week until now. I have bills to pay, rent is over 2k for a studio, there are no jobs here. I am so tired because this job market is exhausting and everyone is saying its fine.\n",
      "❌ [0.04] - Mind blowing \"counter\" from employer\n",
      "So I'm officially employed as a sales rep on $47k/year, but I've been doing the responsibilities and tasks of the sales manager AND operations manager all year. Both of these official positions have technically been available, but my boss just hasn't bothered hiring for them. I recently got a new job that I start in 2 weeks, which is going to pay me just over $99k/year with additional benefits and allowances. The day after I resigned last week, my boss came at me with the \"official\" promotion to the role I'm doing - $55K. I declined, obviously. He seemed shocked, told me that the money shouldn't be a factor, that I've built up such a great reputation here I'd be throwing my \"career\" away (I've been there for less than 2 years). I told him that it's insulting at this point, and that if he had offered me the position a few months ago I wouldn't have started job searching and would've been elated. I advised him to reward people when it's due, not when you're going to lose them. Now as a result, the location I work at is going to be shut down because he can't find anyone to replace me and the other managers are leaving with me. Karma is sweet. \n"
     ]
    },
    {
     "name": "stderr",
     "output_type": "stream",
     "text": [
      "400it [1:16:28, 12.94s/it]"
     ]
    },
    {
     "name": "stdout",
     "output_type": "stream",
     "text": [
      "Step 400/719 | Last 50 batch train NLL: 0.6596996212005615 | LR: 3e-05 | Mem: 0.2 GB\n"
     ]
    },
    {
     "name": "stderr",
     "output_type": "stream",
     "text": [
      "401it [1:16:43, 13.40s/it]"
     ]
    },
    {
     "name": "stdout",
     "output_type": "stream",
     "text": [
      "Correct: 2/6\n",
      "❌ [0.03] - Started searching for jobs and struggling\n",
      "❌ [0.17] - Just received a new job offer!\n",
      "✅ [0.81] - My job is paying my coworker more than me. What do I do?\n",
      "✅ [0.8] - Recruiters really tick me off\n",
      "Its 9am on a weekend and I'm already ticked off. I came across a post on LinkedIn that said recruiters should dress up as ghosts because they ghost candidates. Do recruiters really think this kind of stuff is funny?\n",
      "❌ [0.17] - Emotionally exhausted from this BS market\n",
      "I just need to rant. I never cried so much within a week until now. I have bills to pay, rent is over 2k for a studio, there are no jobs here. I am so tired because this job market is exhausting and everyone is saying its fine.\n",
      "❌ [0.03] - Mind blowing \"counter\" from employer\n",
      "So I'm officially employed as a sales rep on $47k/year, but I've been doing the responsibilities and tasks of the sales manager AND operations manager all year. Both of these official positions have technically been available, but my boss just hasn't bothered hiring for them. I recently got a new job that I start in 2 weeks, which is going to pay me just over $99k/year with additional benefits and allowances. The day after I resigned last week, my boss came at me with the \"official\" promotion to the role I'm doing - $55K. I declined, obviously. He seemed shocked, told me that the money shouldn't be a factor, that I've built up such a great reputation here I'd be throwing my \"career\" away (I've been there for less than 2 years). I told him that it's insulting at this point, and that if he had offered me the position a few months ago I wouldn't have started job searching and would've been elated. I advised him to reward people when it's due, not when you're going to lose them. Now as a result, the location I work at is going to be shut down because he can't find anyone to replace me and the other managers are leaving with me. Karma is sweet. \n"
     ]
    },
    {
     "name": "stderr",
     "output_type": "stream",
     "text": [
      "500it [1:38:03, 12.94s/it]"
     ]
    },
    {
     "name": "stdout",
     "output_type": "stream",
     "text": [
      "Step 500/719 | Last 50 batch train NLL: 0.6591051715612412 | LR: 3e-05 | Mem: 0.2 GB\n"
     ]
    },
    {
     "name": "stderr",
     "output_type": "stream",
     "text": [
      "501it [1:38:17, 13.39s/it]"
     ]
    },
    {
     "name": "stdout",
     "output_type": "stream",
     "text": [
      "Correct: 4/6\n",
      "✅ [0.77] - Started searching for jobs and struggling\n",
      "✅ [0.48] - Just received a new job offer!\n",
      "✅ [0.49] - My job is paying my coworker more than me. What do I do?\n",
      "❌ [0.04] - Recruiters really tick me off\n",
      "Its 9am on a weekend and I'm already ticked off. I came across a post on LinkedIn that said recruiters should dress up as ghosts because they ghost candidates. Do recruiters really think this kind of stuff is funny?\n",
      "✅ [0.51] - Emotionally exhausted from this BS market\n",
      "I just need to rant. I never cried so much within a week until now. I have bills to pay, rent is over 2k for a studio, there are no jobs here. I am so tired because this job market is exhausting and everyone is saying its fine.\n",
      "❌ [0.08] - Mind blowing \"counter\" from employer\n",
      "So I'm officially employed as a sales rep on $47k/year, but I've been doing the responsibilities and tasks of the sales manager AND operations manager all year. Both of these official positions have technically been available, but my boss just hasn't bothered hiring for them. I recently got a new job that I start in 2 weeks, which is going to pay me just over $99k/year with additional benefits and allowances. The day after I resigned last week, my boss came at me with the \"official\" promotion to the role I'm doing - $55K. I declined, obviously. He seemed shocked, told me that the money shouldn't be a factor, that I've built up such a great reputation here I'd be throwing my \"career\" away (I've been there for less than 2 years). I told him that it's insulting at this point, and that if he had offered me the position a few months ago I wouldn't have started job searching and would've been elated. I advised him to reward people when it's due, not when you're going to lose them. Now as a result, the location I work at is going to be shut down because he can't find anyone to replace me and the other managers are leaving with me. Karma is sweet. \n"
     ]
    },
    {
     "name": "stderr",
     "output_type": "stream",
     "text": [
      "600it [1:59:38, 12.93s/it]"
     ]
    },
    {
     "name": "stdout",
     "output_type": "stream",
     "text": [
      "Step 600/719 | Last 50 batch train NLL: 0.6094168511033058 | LR: 3e-05 | Mem: 0.2 GB\n"
     ]
    },
    {
     "name": "stderr",
     "output_type": "stream",
     "text": [
      "601it [1:59:52, 13.41s/it]"
     ]
    },
    {
     "name": "stdout",
     "output_type": "stream",
     "text": [
      "Correct: 2/6\n",
      "❌ [0.27] - Started searching for jobs and struggling\n",
      "✅ [0.72] - Just received a new job offer!\n",
      "✅ [0.72] - My job is paying my coworker more than me. What do I do?\n",
      "❌ [0.27] - Recruiters really tick me off\n",
      "Its 9am on a weekend and I'm already ticked off. I came across a post on LinkedIn that said recruiters should dress up as ghosts because they ghost candidates. Do recruiters really think this kind of stuff is funny?\n",
      "❌ [0.01] - Emotionally exhausted from this BS market\n",
      "I just need to rant. I never cried so much within a week until now. I have bills to pay, rent is over 2k for a studio, there are no jobs here. I am so tired because this job market is exhausting and everyone is saying its fine.\n",
      "❌ [0.01] - Mind blowing \"counter\" from employer\n",
      "So I'm officially employed as a sales rep on $47k/year, but I've been doing the responsibilities and tasks of the sales manager AND operations manager all year. Both of these official positions have technically been available, but my boss just hasn't bothered hiring for them. I recently got a new job that I start in 2 weeks, which is going to pay me just over $99k/year with additional benefits and allowances. The day after I resigned last week, my boss came at me with the \"official\" promotion to the role I'm doing - $55K. I declined, obviously. He seemed shocked, told me that the money shouldn't be a factor, that I've built up such a great reputation here I'd be throwing my \"career\" away (I've been there for less than 2 years). I told him that it's insulting at this point, and that if he had offered me the position a few months ago I wouldn't have started job searching and would've been elated. I advised him to reward people when it's due, not when you're going to lose them. Now as a result, the location I work at is going to be shut down because he can't find anyone to replace me and the other managers are leaving with me. Karma is sweet. \n"
     ]
    },
    {
     "name": "stderr",
     "output_type": "stream",
     "text": [
      "700it [2:19:18,  8.19s/it]"
     ]
    },
    {
     "name": "stdout",
     "output_type": "stream",
     "text": [
      "Step 700/719 | Last 50 batch train NLL: 0.6849844121932983 | LR: 3e-05 | Mem: 0.2 GB\n"
     ]
    },
    {
     "name": "stderr",
     "output_type": "stream",
     "text": [
      "701it [2:19:27,  8.54s/it]"
     ]
    },
    {
     "name": "stdout",
     "output_type": "stream",
     "text": [
      "Correct: 2/6\n",
      "✅ [0.8] - Started searching for jobs and struggling\n",
      "❌ [0.02] - Just received a new job offer!\n",
      "❌ [0.26] - My job is paying my coworker more than me. What do I do?\n",
      "✅ [0.71] - Recruiters really tick me off\n",
      "Its 9am on a weekend and I'm already ticked off. I came across a post on LinkedIn that said recruiters should dress up as ghosts because they ghost candidates. Do recruiters really think this kind of stuff is funny?\n",
      "❌ [0.02] - Emotionally exhausted from this BS market\n",
      "I just need to rant. I never cried so much within a week until now. I have bills to pay, rent is over 2k for a studio, there are no jobs here. I am so tired because this job market is exhausting and everyone is saying its fine.\n",
      "❌ [0.27] - Mind blowing \"counter\" from employer\n",
      "So I'm officially employed as a sales rep on $47k/year, but I've been doing the responsibilities and tasks of the sales manager AND operations manager all year. Both of these official positions have technically been available, but my boss just hasn't bothered hiring for them. I recently got a new job that I start in 2 weeks, which is going to pay me just over $99k/year with additional benefits and allowances. The day after I resigned last week, my boss came at me with the \"official\" promotion to the role I'm doing - $55K. I declined, obviously. He seemed shocked, told me that the money shouldn't be a factor, that I've built up such a great reputation here I'd be throwing my \"career\" away (I've been there for less than 2 years). I told him that it's insulting at this point, and that if he had offered me the position a few months ago I wouldn't have started job searching and would've been elated. I advised him to reward people when it's due, not when you're going to lose them. Now as a result, the location I work at is going to be shut down because he can't find anyone to replace me and the other managers are leaving with me. Karma is sweet. \n"
     ]
    },
    {
     "name": "stderr",
     "output_type": "stream",
     "text": [
      "719it [2:21:52, 11.84s/it]\n"
     ]
    },
    {
     "name": "stdout",
     "output_type": "stream",
     "text": [
      "Epoch loss: 471.4487406462431\n"
     ]
    },
    {
     "name": "stderr",
     "output_type": "stream",
     "text": [
      "180it [14:36,  4.87s/it]\n"
     ]
    },
    {
     "name": "stdout",
     "output_type": "stream",
     "text": [
      "***** Epoch 1 \n"
     ]
    },
    {
     "name": "stderr",
     "output_type": "stream",
     "text": [
      "0it [00:00, ?it/s]"
     ]
    },
    {
     "name": "stdout",
     "output_type": "stream",
     "text": [
      "Step 0/719 | Last 50 batch train NLL: 0.6645935934782028 | LR: 1.5e-05 | Mem: 0.2 GB\n"
     ]
    },
    {
     "name": "stderr",
     "output_type": "stream",
     "text": [
      "1it [00:07,  7.24s/it]"
     ]
    },
    {
     "name": "stdout",
     "output_type": "stream",
     "text": [
      "Correct: 2/6\n",
      "✅ [0.74] - Started searching for jobs and struggling\n",
      "❌ [0.03] - Just received a new job offer!\n",
      "❌ [0.38] - My job is paying my coworker more than me. What do I do?\n",
      "✅ [0.71] - Recruiters really tick me off\n",
      "Its 9am on a weekend and I'm already ticked off. I came across a post on LinkedIn that said recruiters should dress up as ghosts because they ghost candidates. Do recruiters really think this kind of stuff is funny?\n",
      "❌ [0.02] - Emotionally exhausted from this BS market\n",
      "I just need to rant. I never cried so much within a week until now. I have bills to pay, rent is over 2k for a studio, there are no jobs here. I am so tired because this job market is exhausting and everyone is saying its fine.\n",
      "❌ [0.27] - Mind blowing \"counter\" from employer\n",
      "So I'm officially employed as a sales rep on $47k/year, but I've been doing the responsibilities and tasks of the sales manager AND operations manager all year. Both of these official positions have technically been available, but my boss just hasn't bothered hiring for them. I recently got a new job that I start in 2 weeks, which is going to pay me just over $99k/year with additional benefits and allowances. The day after I resigned last week, my boss came at me with the \"official\" promotion to the role I'm doing - $55K. I declined, obviously. He seemed shocked, told me that the money shouldn't be a factor, that I've built up such a great reputation here I'd be throwing my \"career\" away (I've been there for less than 2 years). I told him that it's insulting at this point, and that if he had offered me the position a few months ago I wouldn't have started job searching and would've been elated. I advised him to reward people when it's due, not when you're going to lose them. Now as a result, the location I work at is going to be shut down because he can't find anyone to replace me and the other managers are leaving with me. Karma is sweet. \n"
     ]
    },
    {
     "name": "stderr",
     "output_type": "stream",
     "text": [
      "100it [16:41,  7.45s/it]"
     ]
    },
    {
     "name": "stdout",
     "output_type": "stream",
     "text": [
      "Step 100/719 | Last 50 batch train NLL: 0.6429448467493057 | LR: 1.5e-05 | Mem: 0.2 GB\n"
     ]
    },
    {
     "name": "stderr",
     "output_type": "stream",
     "text": [
      "101it [16:50,  7.74s/it]"
     ]
    },
    {
     "name": "stdout",
     "output_type": "stream",
     "text": [
      "Correct: 1/6\n",
      "✅ [0.68] - Started searching for jobs and struggling\n",
      "❌ [0.02] - Just received a new job offer!\n",
      "❌ [0.48] - My job is paying my coworker more than me. What do I do?\n",
      "❌ [0.22] - Recruiters really tick me off\n",
      "Its 9am on a weekend and I'm already ticked off. I came across a post on LinkedIn that said recruiters should dress up as ghosts because they ghost candidates. Do recruiters really think this kind of stuff is funny?\n",
      "❌ [0.02] - Emotionally exhausted from this BS market\n",
      "I just need to rant. I never cried so much within a week until now. I have bills to pay, rent is over 2k for a studio, there are no jobs here. I am so tired because this job market is exhausting and everyone is saying its fine.\n",
      "❌ [0.48] - Mind blowing \"counter\" from employer\n",
      "So I'm officially employed as a sales rep on $47k/year, but I've been doing the responsibilities and tasks of the sales manager AND operations manager all year. Both of these official positions have technically been available, but my boss just hasn't bothered hiring for them. I recently got a new job that I start in 2 weeks, which is going to pay me just over $99k/year with additional benefits and allowances. The day after I resigned last week, my boss came at me with the \"official\" promotion to the role I'm doing - $55K. I declined, obviously. He seemed shocked, told me that the money shouldn't be a factor, that I've built up such a great reputation here I'd be throwing my \"career\" away (I've been there for less than 2 years). I told him that it's insulting at this point, and that if he had offered me the position a few months ago I wouldn't have started job searching and would've been elated. I advised him to reward people when it's due, not when you're going to lose them. Now as a result, the location I work at is going to be shut down because he can't find anyone to replace me and the other managers are leaving with me. Karma is sweet. \n"
     ]
    },
    {
     "name": "stderr",
     "output_type": "stream",
     "text": [
      "200it [28:32,  6.69s/it]"
     ]
    },
    {
     "name": "stdout",
     "output_type": "stream",
     "text": [
      "Step 200/719 | Last 50 batch train NLL: 0.6213769090175628 | LR: 1.5e-05 | Mem: 0.2 GB\n"
     ]
    },
    {
     "name": "stderr",
     "output_type": "stream",
     "text": [
      "201it [28:39,  7.01s/it]"
     ]
    },
    {
     "name": "stdout",
     "output_type": "stream",
     "text": [
      "Correct: 2/6\n",
      "❌ [0.02] - Started searching for jobs and struggling\n",
      "✅ [0.7] - Just received a new job offer!\n",
      "❌ [0.14] - My job is paying my coworker more than me. What do I do?\n",
      "❌ [0.02] - Recruiters really tick me off\n",
      "Its 9am on a weekend and I'm already ticked off. I came across a post on LinkedIn that said recruiters should dress up as ghosts because they ghost candidates. Do recruiters really think this kind of stuff is funny?\n",
      "❌ [0.18] - Emotionally exhausted from this BS market\n",
      "I just need to rant. I never cried so much within a week until now. I have bills to pay, rent is over 2k for a studio, there are no jobs here. I am so tired because this job market is exhausting and everyone is saying its fine.\n",
      "✅ [0.82] - Mind blowing \"counter\" from employer\n",
      "So I'm officially employed as a sales rep on $47k/year, but I've been doing the responsibilities and tasks of the sales manager AND operations manager all year. Both of these official positions have technically been available, but my boss just hasn't bothered hiring for them. I recently got a new job that I start in 2 weeks, which is going to pay me just over $99k/year with additional benefits and allowances. The day after I resigned last week, my boss came at me with the \"official\" promotion to the role I'm doing - $55K. I declined, obviously. He seemed shocked, told me that the money shouldn't be a factor, that I've built up such a great reputation here I'd be throwing my \"career\" away (I've been there for less than 2 years). I told him that it's insulting at this point, and that if he had offered me the position a few months ago I wouldn't have started job searching and would've been elated. I advised him to reward people when it's due, not when you're going to lose them. Now as a result, the location I work at is going to be shut down because he can't find anyone to replace me and the other managers are leaving with me. Karma is sweet. \n"
     ]
    },
    {
     "name": "stderr",
     "output_type": "stream",
     "text": [
      "300it [39:46,  6.81s/it]"
     ]
    },
    {
     "name": "stdout",
     "output_type": "stream",
     "text": [
      "Step 300/719 | Last 50 batch train NLL: 0.6229754489660263 | LR: 1.5e-05 | Mem: 0.2 GB\n"
     ]
    },
    {
     "name": "stderr",
     "output_type": "stream",
     "text": [
      "301it [39:54,  7.12s/it]"
     ]
    },
    {
     "name": "stdout",
     "output_type": "stream",
     "text": [
      "Correct: 2/6\n",
      "✅ [0.72] - Started searching for jobs and struggling\n",
      "✅ [0.82] - Just received a new job offer!\n",
      "❌ [0.02] - My job is paying my coworker more than me. What do I do?\n",
      "❌ [0.32] - Recruiters really tick me off\n",
      "Its 9am on a weekend and I'm already ticked off. I came across a post on LinkedIn that said recruiters should dress up as ghosts because they ghost candidates. Do recruiters really think this kind of stuff is funny?\n",
      "❌ [0.11] - Emotionally exhausted from this BS market\n",
      "I just need to rant. I never cried so much within a week until now. I have bills to pay, rent is over 2k for a studio, there are no jobs here. I am so tired because this job market is exhausting and everyone is saying its fine.\n",
      "❌ [0.01] - Mind blowing \"counter\" from employer\n",
      "So I'm officially employed as a sales rep on $47k/year, but I've been doing the responsibilities and tasks of the sales manager AND operations manager all year. Both of these official positions have technically been available, but my boss just hasn't bothered hiring for them. I recently got a new job that I start in 2 weeks, which is going to pay me just over $99k/year with additional benefits and allowances. The day after I resigned last week, my boss came at me with the \"official\" promotion to the role I'm doing - $55K. I declined, obviously. He seemed shocked, told me that the money shouldn't be a factor, that I've built up such a great reputation here I'd be throwing my \"career\" away (I've been there for less than 2 years). I told him that it's insulting at this point, and that if he had offered me the position a few months ago I wouldn't have started job searching and would've been elated. I advised him to reward people when it's due, not when you're going to lose them. Now as a result, the location I work at is going to be shut down because he can't find anyone to replace me and the other managers are leaving with me. Karma is sweet. \n"
     ]
    },
    {
     "name": "stderr",
     "output_type": "stream",
     "text": [
      "400it [51:08,  6.81s/it]"
     ]
    },
    {
     "name": "stdout",
     "output_type": "stream",
     "text": [
      "Step 400/719 | Last 50 batch train NLL: 0.6027533364295959 | LR: 1.5e-05 | Mem: 0.2 GB\n"
     ]
    },
    {
     "name": "stderr",
     "output_type": "stream",
     "text": [
      "401it [51:16,  7.12s/it]"
     ]
    },
    {
     "name": "stdout",
     "output_type": "stream",
     "text": [
      "Correct: 3/6\n",
      "✅ [0.75] - Started searching for jobs and struggling\n",
      "❌ [0.01] - Just received a new job offer!\n",
      "✅ [0.85] - My job is paying my coworker more than me. What do I do?\n",
      "❌ [0.12] - Recruiters really tick me off\n",
      "Its 9am on a weekend and I'm already ticked off. I came across a post on LinkedIn that said recruiters should dress up as ghosts because they ghost candidates. Do recruiters really think this kind of stuff is funny?\n",
      "✅ [0.5] - Emotionally exhausted from this BS market\n",
      "I just need to rant. I never cried so much within a week until now. I have bills to pay, rent is over 2k for a studio, there are no jobs here. I am so tired because this job market is exhausting and everyone is saying its fine.\n",
      "❌ [0.03] - Mind blowing \"counter\" from employer\n",
      "So I'm officially employed as a sales rep on $47k/year, but I've been doing the responsibilities and tasks of the sales manager AND operations manager all year. Both of these official positions have technically been available, but my boss just hasn't bothered hiring for them. I recently got a new job that I start in 2 weeks, which is going to pay me just over $99k/year with additional benefits and allowances. The day after I resigned last week, my boss came at me with the \"official\" promotion to the role I'm doing - $55K. I declined, obviously. He seemed shocked, told me that the money shouldn't be a factor, that I've built up such a great reputation here I'd be throwing my \"career\" away (I've been there for less than 2 years). I told him that it's insulting at this point, and that if he had offered me the position a few months ago I wouldn't have started job searching and would've been elated. I advised him to reward people when it's due, not when you're going to lose them. Now as a result, the location I work at is going to be shut down because he can't find anyone to replace me and the other managers are leaving with me. Karma is sweet. \n"
     ]
    },
    {
     "name": "stderr",
     "output_type": "stream",
     "text": [
      "500it [1:02:15,  6.62s/it]"
     ]
    },
    {
     "name": "stdout",
     "output_type": "stream",
     "text": [
      "Step 500/719 | Last 50 batch train NLL: 0.6095054984092713 | LR: 1.5e-05 | Mem: 0.2 GB\n"
     ]
    },
    {
     "name": "stderr",
     "output_type": "stream",
     "text": [
      "501it [1:02:22,  6.93s/it]"
     ]
    },
    {
     "name": "stdout",
     "output_type": "stream",
     "text": [
      "Correct: 2/6\n",
      "✅ [0.75] - Started searching for jobs and struggling\n",
      "❌ [0.15] - Just received a new job offer!\n",
      "✅ [0.8] - My job is paying my coworker more than me. What do I do?\n",
      "❌ [0.45] - Recruiters really tick me off\n",
      "Its 9am on a weekend and I'm already ticked off. I came across a post on LinkedIn that said recruiters should dress up as ghosts because they ghost candidates. Do recruiters really think this kind of stuff is funny?\n",
      "❌ [0.03] - Emotionally exhausted from this BS market\n",
      "I just need to rant. I never cried so much within a week until now. I have bills to pay, rent is over 2k for a studio, there are no jobs here. I am so tired because this job market is exhausting and everyone is saying its fine.\n",
      "❌ [0.04] - Mind blowing \"counter\" from employer\n",
      "So I'm officially employed as a sales rep on $47k/year, but I've been doing the responsibilities and tasks of the sales manager AND operations manager all year. Both of these official positions have technically been available, but my boss just hasn't bothered hiring for them. I recently got a new job that I start in 2 weeks, which is going to pay me just over $99k/year with additional benefits and allowances. The day after I resigned last week, my boss came at me with the \"official\" promotion to the role I'm doing - $55K. I declined, obviously. He seemed shocked, told me that the money shouldn't be a factor, that I've built up such a great reputation here I'd be throwing my \"career\" away (I've been there for less than 2 years). I told him that it's insulting at this point, and that if he had offered me the position a few months ago I wouldn't have started job searching and would've been elated. I advised him to reward people when it's due, not when you're going to lose them. Now as a result, the location I work at is going to be shut down because he can't find anyone to replace me and the other managers are leaving with me. Karma is sweet. \n"
     ]
    },
    {
     "name": "stderr",
     "output_type": "stream",
     "text": [
      "600it [1:13:18,  6.62s/it]"
     ]
    },
    {
     "name": "stdout",
     "output_type": "stream",
     "text": [
      "Step 600/719 | Last 50 batch train NLL: 0.5635059797763824 | LR: 1.5e-05 | Mem: 0.2 GB\n"
     ]
    },
    {
     "name": "stderr",
     "output_type": "stream",
     "text": [
      "601it [1:13:26,  6.93s/it]"
     ]
    },
    {
     "name": "stdout",
     "output_type": "stream",
     "text": [
      "Correct: 3/6\n",
      "❌ [0.01] - Started searching for jobs and struggling\n",
      "❌ [0.12] - Just received a new job offer!\n",
      "✅ [0.85] - My job is paying my coworker more than me. What do I do?\n",
      "✅ [0.61] - Recruiters really tick me off\n",
      "Its 9am on a weekend and I'm already ticked off. I came across a post on LinkedIn that said recruiters should dress up as ghosts because they ghost candidates. Do recruiters really think this kind of stuff is funny?\n",
      "❌ [0.02] - Emotionally exhausted from this BS market\n",
      "I just need to rant. I never cried so much within a week until now. I have bills to pay, rent is over 2k for a studio, there are no jobs here. I am so tired because this job market is exhausting and everyone is saying its fine.\n",
      "✅ [0.51] - Mind blowing \"counter\" from employer\n",
      "So I'm officially employed as a sales rep on $47k/year, but I've been doing the responsibilities and tasks of the sales manager AND operations manager all year. Both of these official positions have technically been available, but my boss just hasn't bothered hiring for them. I recently got a new job that I start in 2 weeks, which is going to pay me just over $99k/year with additional benefits and allowances. The day after I resigned last week, my boss came at me with the \"official\" promotion to the role I'm doing - $55K. I declined, obviously. He seemed shocked, told me that the money shouldn't be a factor, that I've built up such a great reputation here I'd be throwing my \"career\" away (I've been there for less than 2 years). I told him that it's insulting at this point, and that if he had offered me the position a few months ago I wouldn't have started job searching and would've been elated. I advised him to reward people when it's due, not when you're going to lose them. Now as a result, the location I work at is going to be shut down because he can't find anyone to replace me and the other managers are leaving with me. Karma is sweet. \n"
     ]
    },
    {
     "name": "stderr",
     "output_type": "stream",
     "text": [
      "700it [1:24:21,  6.62s/it]"
     ]
    },
    {
     "name": "stdout",
     "output_type": "stream",
     "text": [
      "Step 700/719 | Last 50 batch train NLL: 0.6107820010185242 | LR: 1.5e-05 | Mem: 0.2 GB\n"
     ]
    },
    {
     "name": "stderr",
     "output_type": "stream",
     "text": [
      "701it [1:24:29,  6.93s/it]"
     ]
    },
    {
     "name": "stdout",
     "output_type": "stream",
     "text": [
      "Correct: 2/6\n",
      "❌ [0.02] - Started searching for jobs and struggling\n",
      "✅ [0.6] - Just received a new job offer!\n",
      "✅ [0.88] - My job is paying my coworker more than me. What do I do?\n",
      "❌ [0.49] - Recruiters really tick me off\n",
      "Its 9am on a weekend and I'm already ticked off. I came across a post on LinkedIn that said recruiters should dress up as ghosts because they ghost candidates. Do recruiters really think this kind of stuff is funny?\n",
      "❌ [0.09] - Emotionally exhausted from this BS market\n",
      "I just need to rant. I never cried so much within a week until now. I have bills to pay, rent is over 2k for a studio, there are no jobs here. I am so tired because this job market is exhausting and everyone is saying its fine.\n",
      "❌ [0.02] - Mind blowing \"counter\" from employer\n",
      "So I'm officially employed as a sales rep on $47k/year, but I've been doing the responsibilities and tasks of the sales manager AND operations manager all year. Both of these official positions have technically been available, but my boss just hasn't bothered hiring for them. I recently got a new job that I start in 2 weeks, which is going to pay me just over $99k/year with additional benefits and allowances. The day after I resigned last week, my boss came at me with the \"official\" promotion to the role I'm doing - $55K. I declined, obviously. He seemed shocked, told me that the money shouldn't be a factor, that I've built up such a great reputation here I'd be throwing my \"career\" away (I've been there for less than 2 years). I told him that it's insulting at this point, and that if he had offered me the position a few months ago I wouldn't have started job searching and would've been elated. I advised him to reward people when it's due, not when you're going to lose them. Now as a result, the location I work at is going to be shut down because he can't find anyone to replace me and the other managers are leaving with me. Karma is sweet. \n"
     ]
    },
    {
     "name": "stderr",
     "output_type": "stream",
     "text": [
      "719it [1:26:23,  7.21s/it]\n"
     ]
    },
    {
     "name": "stdout",
     "output_type": "stream",
     "text": [
      "Epoch loss: 431.26187928020954\n"
     ]
    },
    {
     "name": "stderr",
     "output_type": "stream",
     "text": [
      "180it [00:50,  3.58it/s]\n"
     ]
    },
    {
     "name": "stdout",
     "output_type": "stream",
     "text": [
      "***** Epoch 2 \n"
     ]
    },
    {
     "name": "stderr",
     "output_type": "stream",
     "text": [
      "0it [00:00, ?it/s]"
     ]
    },
    {
     "name": "stdout",
     "output_type": "stream",
     "text": [
      "Step 0/719 | Last 50 batch train NLL: 0.5890694677829742 | LR: 7.5e-06 | Mem: 0.2 GB\n"
     ]
    },
    {
     "name": "stderr",
     "output_type": "stream",
     "text": [
      "1it [00:07,  7.82s/it]"
     ]
    },
    {
     "name": "stdout",
     "output_type": "stream",
     "text": [
      "Correct: 2/6\n",
      "❌ [0.12] - Started searching for jobs and struggling\n",
      "✅ [0.76] - Just received a new job offer!\n",
      "✅ [0.66] - My job is paying my coworker more than me. What do I do?\n",
      "❌ [0.46] - Recruiters really tick me off\n",
      "Its 9am on a weekend and I'm already ticked off. I came across a post on LinkedIn that said recruiters should dress up as ghosts because they ghost candidates. Do recruiters really think this kind of stuff is funny?\n",
      "❌ [0.02] - Emotionally exhausted from this BS market\n",
      "I just need to rant. I never cried so much within a week until now. I have bills to pay, rent is over 2k for a studio, there are no jobs here. I am so tired because this job market is exhausting and everyone is saying its fine.\n",
      "❌ [0.02] - Mind blowing \"counter\" from employer\n",
      "So I'm officially employed as a sales rep on $47k/year, but I've been doing the responsibilities and tasks of the sales manager AND operations manager all year. Both of these official positions have technically been available, but my boss just hasn't bothered hiring for them. I recently got a new job that I start in 2 weeks, which is going to pay me just over $99k/year with additional benefits and allowances. The day after I resigned last week, my boss came at me with the \"official\" promotion to the role I'm doing - $55K. I declined, obviously. He seemed shocked, told me that the money shouldn't be a factor, that I've built up such a great reputation here I'd be throwing my \"career\" away (I've been there for less than 2 years). I told him that it's insulting at this point, and that if he had offered me the position a few months ago I wouldn't have started job searching and would've been elated. I advised him to reward people when it's due, not when you're going to lose them. Now as a result, the location I work at is going to be shut down because he can't find anyone to replace me and the other managers are leaving with me. Karma is sweet. \n"
     ]
    },
    {
     "name": "stderr",
     "output_type": "stream",
     "text": [
      "100it [11:53,  7.12s/it]"
     ]
    },
    {
     "name": "stdout",
     "output_type": "stream",
     "text": [
      "Step 100/719 | Last 50 batch train NLL: 0.5639200109243393 | LR: 7.5e-06 | Mem: 0.2 GB\n"
     ]
    },
    {
     "name": "stderr",
     "output_type": "stream",
     "text": [
      "101it [12:01,  7.43s/it]"
     ]
    },
    {
     "name": "stdout",
     "output_type": "stream",
     "text": [
      "Correct: 3/6\n",
      "✅ [0.59] - Started searching for jobs and struggling\n",
      "✅ [0.9] - Just received a new job offer!\n",
      "❌ [0.21] - My job is paying my coworker more than me. What do I do?\n",
      "✅ [0.61] - Recruiters really tick me off\n",
      "Its 9am on a weekend and I'm already ticked off. I came across a post on LinkedIn that said recruiters should dress up as ghosts because they ghost candidates. Do recruiters really think this kind of stuff is funny?\n",
      "❌ [0.02] - Emotionally exhausted from this BS market\n",
      "I just need to rant. I never cried so much within a week until now. I have bills to pay, rent is over 2k for a studio, there are no jobs here. I am so tired because this job market is exhausting and everyone is saying its fine.\n",
      "❌ [0.02] - Mind blowing \"counter\" from employer\n",
      "So I'm officially employed as a sales rep on $47k/year, but I've been doing the responsibilities and tasks of the sales manager AND operations manager all year. Both of these official positions have technically been available, but my boss just hasn't bothered hiring for them. I recently got a new job that I start in 2 weeks, which is going to pay me just over $99k/year with additional benefits and allowances. The day after I resigned last week, my boss came at me with the \"official\" promotion to the role I'm doing - $55K. I declined, obviously. He seemed shocked, told me that the money shouldn't be a factor, that I've built up such a great reputation here I'd be throwing my \"career\" away (I've been there for less than 2 years). I told him that it's insulting at this point, and that if he had offered me the position a few months ago I wouldn't have started job searching and would've been elated. I advised him to reward people when it's due, not when you're going to lose them. Now as a result, the location I work at is going to be shut down because he can't find anyone to replace me and the other managers are leaving with me. Karma is sweet. \n"
     ]
    },
    {
     "name": "stderr",
     "output_type": "stream",
     "text": [
      "200it [23:47,  7.13s/it]"
     ]
    },
    {
     "name": "stdout",
     "output_type": "stream",
     "text": [
      "Step 200/719 | Last 50 batch train NLL: 0.5902549979090691 | LR: 7.5e-06 | Mem: 0.2 GB\n"
     ]
    },
    {
     "name": "stderr",
     "output_type": "stream",
     "text": [
      "201it [23:55,  7.43s/it]"
     ]
    },
    {
     "name": "stdout",
     "output_type": "stream",
     "text": [
      "Correct: 2/6\n",
      "❌ [0.4] - Started searching for jobs and struggling\n",
      "❌ [0.02] - Just received a new job offer!\n",
      "❌ [0.11] - My job is paying my coworker more than me. What do I do?\n",
      "✅ [0.73] - Recruiters really tick me off\n",
      "Its 9am on a weekend and I'm already ticked off. I came across a post on LinkedIn that said recruiters should dress up as ghosts because they ghost candidates. Do recruiters really think this kind of stuff is funny?\n",
      "✅ [0.86] - Emotionally exhausted from this BS market\n",
      "I just need to rant. I never cried so much within a week until now. I have bills to pay, rent is over 2k for a studio, there are no jobs here. I am so tired because this job market is exhausting and everyone is saying its fine.\n",
      "❌ [0.02] - Mind blowing \"counter\" from employer\n",
      "So I'm officially employed as a sales rep on $47k/year, but I've been doing the responsibilities and tasks of the sales manager AND operations manager all year. Both of these official positions have technically been available, but my boss just hasn't bothered hiring for them. I recently got a new job that I start in 2 weeks, which is going to pay me just over $99k/year with additional benefits and allowances. The day after I resigned last week, my boss came at me with the \"official\" promotion to the role I'm doing - $55K. I declined, obviously. He seemed shocked, told me that the money shouldn't be a factor, that I've built up such a great reputation here I'd be throwing my \"career\" away (I've been there for less than 2 years). I told him that it's insulting at this point, and that if he had offered me the position a few months ago I wouldn't have started job searching and would've been elated. I advised him to reward people when it's due, not when you're going to lose them. Now as a result, the location I work at is going to be shut down because he can't find anyone to replace me and the other managers are leaving with me. Karma is sweet. \n"
     ]
    },
    {
     "name": "stderr",
     "output_type": "stream",
     "text": [
      "300it [35:40,  7.12s/it]"
     ]
    },
    {
     "name": "stdout",
     "output_type": "stream",
     "text": [
      "Step 300/719 | Last 50 batch train NLL: 0.5605528950691223 | LR: 7.5e-06 | Mem: 0.2 GB\n"
     ]
    },
    {
     "name": "stderr",
     "output_type": "stream",
     "text": [
      "301it [35:49,  7.43s/it]"
     ]
    },
    {
     "name": "stdout",
     "output_type": "stream",
     "text": [
      "Correct: 2/6\n",
      "❌ [0.43] - Started searching for jobs and struggling\n",
      "❌ [0.01] - Just received a new job offer!\n",
      "✅ [0.73] - My job is paying my coworker more than me. What do I do?\n",
      "✅ [0.88] - Recruiters really tick me off\n",
      "Its 9am on a weekend and I'm already ticked off. I came across a post on LinkedIn that said recruiters should dress up as ghosts because they ghost candidates. Do recruiters really think this kind of stuff is funny?\n",
      "❌ [0.08] - Emotionally exhausted from this BS market\n",
      "I just need to rant. I never cried so much within a week until now. I have bills to pay, rent is over 2k for a studio, there are no jobs here. I am so tired because this job market is exhausting and everyone is saying its fine.\n",
      "❌ [0.02] - Mind blowing \"counter\" from employer\n",
      "So I'm officially employed as a sales rep on $47k/year, but I've been doing the responsibilities and tasks of the sales manager AND operations manager all year. Both of these official positions have technically been available, but my boss just hasn't bothered hiring for them. I recently got a new job that I start in 2 weeks, which is going to pay me just over $99k/year with additional benefits and allowances. The day after I resigned last week, my boss came at me with the \"official\" promotion to the role I'm doing - $55K. I declined, obviously. He seemed shocked, told me that the money shouldn't be a factor, that I've built up such a great reputation here I'd be throwing my \"career\" away (I've been there for less than 2 years). I told him that it's insulting at this point, and that if he had offered me the position a few months ago I wouldn't have started job searching and would've been elated. I advised him to reward people when it's due, not when you're going to lose them. Now as a result, the location I work at is going to be shut down because he can't find anyone to replace me and the other managers are leaving with me. Karma is sweet. \n"
     ]
    },
    {
     "name": "stderr",
     "output_type": "stream",
     "text": [
      "400it [47:34,  7.13s/it]"
     ]
    },
    {
     "name": "stdout",
     "output_type": "stream",
     "text": [
      "Step 400/719 | Last 50 batch train NLL: 0.5363036397099495 | LR: 7.5e-06 | Mem: 0.2 GB\n"
     ]
    },
    {
     "name": "stderr",
     "output_type": "stream",
     "text": [
      "401it [47:42,  7.43s/it]"
     ]
    },
    {
     "name": "stdout",
     "output_type": "stream",
     "text": [
      "Correct: 3/6\n",
      "❌ [0.02] - Started searching for jobs and struggling\n",
      "❌ [0.06] - Just received a new job offer!\n",
      "❌ [0.01] - My job is paying my coworker more than me. What do I do?\n",
      "✅ [0.77] - Recruiters really tick me off\n",
      "Its 9am on a weekend and I'm already ticked off. I came across a post on LinkedIn that said recruiters should dress up as ghosts because they ghost candidates. Do recruiters really think this kind of stuff is funny?\n",
      "✅ [0.9] - Emotionally exhausted from this BS market\n",
      "I just need to rant. I never cried so much within a week until now. I have bills to pay, rent is over 2k for a studio, there are no jobs here. I am so tired because this job market is exhausting and everyone is saying its fine.\n",
      "✅ [0.5] - Mind blowing \"counter\" from employer\n",
      "So I'm officially employed as a sales rep on $47k/year, but I've been doing the responsibilities and tasks of the sales manager AND operations manager all year. Both of these official positions have technically been available, but my boss just hasn't bothered hiring for them. I recently got a new job that I start in 2 weeks, which is going to pay me just over $99k/year with additional benefits and allowances. The day after I resigned last week, my boss came at me with the \"official\" promotion to the role I'm doing - $55K. I declined, obviously. He seemed shocked, told me that the money shouldn't be a factor, that I've built up such a great reputation here I'd be throwing my \"career\" away (I've been there for less than 2 years). I told him that it's insulting at this point, and that if he had offered me the position a few months ago I wouldn't have started job searching and would've been elated. I advised him to reward people when it's due, not when you're going to lose them. Now as a result, the location I work at is going to be shut down because he can't find anyone to replace me and the other managers are leaving with me. Karma is sweet. \n"
     ]
    },
    {
     "name": "stderr",
     "output_type": "stream",
     "text": [
      "500it [59:28,  7.12s/it]"
     ]
    },
    {
     "name": "stdout",
     "output_type": "stream",
     "text": [
      "Step 500/719 | Last 50 batch train NLL: 0.544487606883049 | LR: 7.5e-06 | Mem: 0.2 GB\n"
     ]
    },
    {
     "name": "stderr",
     "output_type": "stream",
     "text": [
      "501it [59:36,  7.43s/it]"
     ]
    },
    {
     "name": "stdout",
     "output_type": "stream",
     "text": [
      "Correct: 3/6\n",
      "❌ [0.1] - Started searching for jobs and struggling\n",
      "❌ [0.02] - Just received a new job offer!\n",
      "❌ [0.03] - My job is paying my coworker more than me. What do I do?\n",
      "✅ [0.71] - Recruiters really tick me off\n",
      "Its 9am on a weekend and I'm already ticked off. I came across a post on LinkedIn that said recruiters should dress up as ghosts because they ghost candidates. Do recruiters really think this kind of stuff is funny?\n",
      "✅ [0.71] - Emotionally exhausted from this BS market\n",
      "I just need to rant. I never cried so much within a week until now. I have bills to pay, rent is over 2k for a studio, there are no jobs here. I am so tired because this job market is exhausting and everyone is saying its fine.\n",
      "✅ [0.81] - Mind blowing \"counter\" from employer\n",
      "So I'm officially employed as a sales rep on $47k/year, but I've been doing the responsibilities and tasks of the sales manager AND operations manager all year. Both of these official positions have technically been available, but my boss just hasn't bothered hiring for them. I recently got a new job that I start in 2 weeks, which is going to pay me just over $99k/year with additional benefits and allowances. The day after I resigned last week, my boss came at me with the \"official\" promotion to the role I'm doing - $55K. I declined, obviously. He seemed shocked, told me that the money shouldn't be a factor, that I've built up such a great reputation here I'd be throwing my \"career\" away (I've been there for less than 2 years). I told him that it's insulting at this point, and that if he had offered me the position a few months ago I wouldn't have started job searching and would've been elated. I advised him to reward people when it's due, not when you're going to lose them. Now as a result, the location I work at is going to be shut down because he can't find anyone to replace me and the other managers are leaving with me. Karma is sweet. \n"
     ]
    },
    {
     "name": "stderr",
     "output_type": "stream",
     "text": [
      "600it [1:11:21,  7.12s/it]"
     ]
    },
    {
     "name": "stdout",
     "output_type": "stream",
     "text": [
      "Step 600/719 | Last 50 batch train NLL: 0.5391059547662735 | LR: 7.5e-06 | Mem: 0.2 GB\n"
     ]
    },
    {
     "name": "stderr",
     "output_type": "stream",
     "text": [
      "601it [1:11:29,  7.43s/it]"
     ]
    },
    {
     "name": "stdout",
     "output_type": "stream",
     "text": [
      "Correct: 3/6\n",
      "❌ [0.08] - Started searching for jobs and struggling\n",
      "❌ [0.01] - Just received a new job offer!\n",
      "✅ [0.54] - My job is paying my coworker more than me. What do I do?\n",
      "✅ [0.89] - Recruiters really tick me off\n",
      "Its 9am on a weekend and I'm already ticked off. I came across a post on LinkedIn that said recruiters should dress up as ghosts because they ghost candidates. Do recruiters really think this kind of stuff is funny?\n",
      "✅ [0.8] - Emotionally exhausted from this BS market\n",
      "I just need to rant. I never cried so much within a week until now. I have bills to pay, rent is over 2k for a studio, there are no jobs here. I am so tired because this job market is exhausting and everyone is saying its fine.\n",
      "❌ [0.01] - Mind blowing \"counter\" from employer\n",
      "So I'm officially employed as a sales rep on $47k/year, but I've been doing the responsibilities and tasks of the sales manager AND operations manager all year. Both of these official positions have technically been available, but my boss just hasn't bothered hiring for them. I recently got a new job that I start in 2 weeks, which is going to pay me just over $99k/year with additional benefits and allowances. The day after I resigned last week, my boss came at me with the \"official\" promotion to the role I'm doing - $55K. I declined, obviously. He seemed shocked, told me that the money shouldn't be a factor, that I've built up such a great reputation here I'd be throwing my \"career\" away (I've been there for less than 2 years). I told him that it's insulting at this point, and that if he had offered me the position a few months ago I wouldn't have started job searching and would've been elated. I advised him to reward people when it's due, not when you're going to lose them. Now as a result, the location I work at is going to be shut down because he can't find anyone to replace me and the other managers are leaving with me. Karma is sweet. \n"
     ]
    },
    {
     "name": "stderr",
     "output_type": "stream",
     "text": [
      "700it [1:23:14,  7.12s/it]"
     ]
    },
    {
     "name": "stdout",
     "output_type": "stream",
     "text": [
      "Step 700/719 | Last 50 batch train NLL: 0.5722884976863861 | LR: 7.5e-06 | Mem: 0.2 GB\n"
     ]
    },
    {
     "name": "stderr",
     "output_type": "stream",
     "text": [
      "701it [1:23:22,  7.42s/it]"
     ]
    },
    {
     "name": "stdout",
     "output_type": "stream",
     "text": [
      "Correct: 3/6\n",
      "✅ [0.87] - Started searching for jobs and struggling\n",
      "❌ [0.07] - Just received a new job offer!\n",
      "✅ [0.64] - My job is paying my coworker more than me. What do I do?\n",
      "❌ [0.02] - Recruiters really tick me off\n",
      "Its 9am on a weekend and I'm already ticked off. I came across a post on LinkedIn that said recruiters should dress up as ghosts because they ghost candidates. Do recruiters really think this kind of stuff is funny?\n",
      "❌ [0.02] - Emotionally exhausted from this BS market\n",
      "I just need to rant. I never cried so much within a week until now. I have bills to pay, rent is over 2k for a studio, there are no jobs here. I am so tired because this job market is exhausting and everyone is saying its fine.\n",
      "✅ [0.61] - Mind blowing \"counter\" from employer\n",
      "So I'm officially employed as a sales rep on $47k/year, but I've been doing the responsibilities and tasks of the sales manager AND operations manager all year. Both of these official positions have technically been available, but my boss just hasn't bothered hiring for them. I recently got a new job that I start in 2 weeks, which is going to pay me just over $99k/year with additional benefits and allowances. The day after I resigned last week, my boss came at me with the \"official\" promotion to the role I'm doing - $55K. I declined, obviously. He seemed shocked, told me that the money shouldn't be a factor, that I've built up such a great reputation here I'd be throwing my \"career\" away (I've been there for less than 2 years). I told him that it's insulting at this point, and that if he had offered me the position a few months ago I wouldn't have started job searching and would've been elated. I advised him to reward people when it's due, not when you're going to lose them. Now as a result, the location I work at is going to be shut down because he can't find anyone to replace me and the other managers are leaving with me. Karma is sweet. \n"
     ]
    },
    {
     "name": "stderr",
     "output_type": "stream",
     "text": [
      "719it [1:25:24,  7.13s/it]\n"
     ]
    },
    {
     "name": "stdout",
     "output_type": "stream",
     "text": [
      "Epoch loss: 396.17605389654636\n"
     ]
    },
    {
     "name": "stderr",
     "output_type": "stream",
     "text": [
      "180it [00:50,  3.58it/s]\n"
     ]
    },
    {
     "name": "stdout",
     "output_type": "stream",
     "text": [
      "***** Epoch 3 \n"
     ]
    },
    {
     "name": "stderr",
     "output_type": "stream",
     "text": [
      "0it [00:00, ?it/s]"
     ]
    },
    {
     "name": "stdout",
     "output_type": "stream",
     "text": [
      "Step 0/719 | Last 50 batch train NLL: 0.5511944782733917 | LR: 3.75e-06 | Mem: 0.2 GB\n"
     ]
    },
    {
     "name": "stderr",
     "output_type": "stream",
     "text": [
      "1it [00:07,  7.83s/it]"
     ]
    },
    {
     "name": "stdout",
     "output_type": "stream",
     "text": [
      "Correct: 3/6\n",
      "❌ [0.02] - Started searching for jobs and struggling\n",
      "✅ [0.59] - Just received a new job offer!\n",
      "✅ [0.57] - My job is paying my coworker more than me. What do I do?\n",
      "❌ [0.02] - Recruiters really tick me off\n",
      "Its 9am on a weekend and I'm already ticked off. I came across a post on LinkedIn that said recruiters should dress up as ghosts because they ghost candidates. Do recruiters really think this kind of stuff is funny?\n",
      "❌ [0.1] - Emotionally exhausted from this BS market\n",
      "I just need to rant. I never cried so much within a week until now. I have bills to pay, rent is over 2k for a studio, there are no jobs here. I am so tired because this job market is exhausting and everyone is saying its fine.\n",
      "✅ [0.88] - Mind blowing \"counter\" from employer\n",
      "So I'm officially employed as a sales rep on $47k/year, but I've been doing the responsibilities and tasks of the sales manager AND operations manager all year. Both of these official positions have technically been available, but my boss just hasn't bothered hiring for them. I recently got a new job that I start in 2 weeks, which is going to pay me just over $99k/year with additional benefits and allowances. The day after I resigned last week, my boss came at me with the \"official\" promotion to the role I'm doing - $55K. I declined, obviously. He seemed shocked, told me that the money shouldn't be a factor, that I've built up such a great reputation here I'd be throwing my \"career\" away (I've been there for less than 2 years). I told him that it's insulting at this point, and that if he had offered me the position a few months ago I wouldn't have started job searching and would've been elated. I advised him to reward people when it's due, not when you're going to lose them. Now as a result, the location I work at is going to be shut down because he can't find anyone to replace me and the other managers are leaving with me. Karma is sweet. \n"
     ]
    },
    {
     "name": "stderr",
     "output_type": "stream",
     "text": [
      "100it [11:56,  7.16s/it]"
     ]
    },
    {
     "name": "stdout",
     "output_type": "stream",
     "text": [
      "Step 100/719 | Last 50 batch train NLL: 0.530573725104332 | LR: 3.75e-06 | Mem: 0.2 GB\n"
     ]
    },
    {
     "name": "stderr",
     "output_type": "stream",
     "text": [
      "101it [12:04,  7.46s/it]"
     ]
    },
    {
     "name": "stdout",
     "output_type": "stream",
     "text": [
      "Correct: 2/6\n",
      "❌ [0.36] - Started searching for jobs and struggling\n",
      "❌ [0.01] - Just received a new job offer!\n",
      "❌ [0.26] - My job is paying my coworker more than me. What do I do?\n",
      "✅ [0.89] - Recruiters really tick me off\n",
      "Its 9am on a weekend and I'm already ticked off. I came across a post on LinkedIn that said recruiters should dress up as ghosts because they ghost candidates. Do recruiters really think this kind of stuff is funny?\n",
      "❌ [0.02] - Emotionally exhausted from this BS market\n",
      "I just need to rant. I never cried so much within a week until now. I have bills to pay, rent is over 2k for a studio, there are no jobs here. I am so tired because this job market is exhausting and everyone is saying its fine.\n",
      "✅ [0.64] - Mind blowing \"counter\" from employer\n",
      "So I'm officially employed as a sales rep on $47k/year, but I've been doing the responsibilities and tasks of the sales manager AND operations manager all year. Both of these official positions have technically been available, but my boss just hasn't bothered hiring for them. I recently got a new job that I start in 2 weeks, which is going to pay me just over $99k/year with additional benefits and allowances. The day after I resigned last week, my boss came at me with the \"official\" promotion to the role I'm doing - $55K. I declined, obviously. He seemed shocked, told me that the money shouldn't be a factor, that I've built up such a great reputation here I'd be throwing my \"career\" away (I've been there for less than 2 years). I told him that it's insulting at this point, and that if he had offered me the position a few months ago I wouldn't have started job searching and would've been elated. I advised him to reward people when it's due, not when you're going to lose them. Now as a result, the location I work at is going to be shut down because he can't find anyone to replace me and the other managers are leaving with me. Karma is sweet. \n"
     ]
    },
    {
     "name": "stderr",
     "output_type": "stream",
     "text": [
      "200it [23:53,  7.15s/it]"
     ]
    },
    {
     "name": "stdout",
     "output_type": "stream",
     "text": [
      "Step 200/719 | Last 50 batch train NLL: 0.5753605157136917 | LR: 3.75e-06 | Mem: 0.2 GB\n"
     ]
    },
    {
     "name": "stderr",
     "output_type": "stream",
     "text": [
      "201it [24:01,  7.46s/it]"
     ]
    },
    {
     "name": "stdout",
     "output_type": "stream",
     "text": [
      "Correct: 3/6\n",
      "❌ [0.23] - Started searching for jobs and struggling\n",
      "❌ [0.02] - Just received a new job offer!\n",
      "✅ [0.53] - My job is paying my coworker more than me. What do I do?\n",
      "✅ [0.85] - Recruiters really tick me off\n",
      "Its 9am on a weekend and I'm already ticked off. I came across a post on LinkedIn that said recruiters should dress up as ghosts because they ghost candidates. Do recruiters really think this kind of stuff is funny?\n",
      "❌ [0.02] - Emotionally exhausted from this BS market\n",
      "I just need to rant. I never cried so much within a week until now. I have bills to pay, rent is over 2k for a studio, there are no jobs here. I am so tired because this job market is exhausting and everyone is saying its fine.\n",
      "✅ [0.65] - Mind blowing \"counter\" from employer\n",
      "So I'm officially employed as a sales rep on $47k/year, but I've been doing the responsibilities and tasks of the sales manager AND operations manager all year. Both of these official positions have technically been available, but my boss just hasn't bothered hiring for them. I recently got a new job that I start in 2 weeks, which is going to pay me just over $99k/year with additional benefits and allowances. The day after I resigned last week, my boss came at me with the \"official\" promotion to the role I'm doing - $55K. I declined, obviously. He seemed shocked, told me that the money shouldn't be a factor, that I've built up such a great reputation here I'd be throwing my \"career\" away (I've been there for less than 2 years). I told him that it's insulting at this point, and that if he had offered me the position a few months ago I wouldn't have started job searching and would've been elated. I advised him to reward people when it's due, not when you're going to lose them. Now as a result, the location I work at is going to be shut down because he can't find anyone to replace me and the other managers are leaving with me. Karma is sweet. \n"
     ]
    },
    {
     "name": "stderr",
     "output_type": "stream",
     "text": [
      "300it [35:55,  7.96s/it]"
     ]
    },
    {
     "name": "stdout",
     "output_type": "stream",
     "text": [
      "Step 300/719 | Last 50 batch train NLL: 0.533348461985588 | LR: 3.75e-06 | Mem: 0.2 GB\n"
     ]
    },
    {
     "name": "stderr",
     "output_type": "stream",
     "text": [
      "301it [36:04,  8.21s/it]"
     ]
    },
    {
     "name": "stdout",
     "output_type": "stream",
     "text": [
      "Correct: 3/6\n",
      "✅ [0.86] - Started searching for jobs and struggling\n",
      "❌ [0.01] - Just received a new job offer!\n",
      "❌ [0.07] - My job is paying my coworker more than me. What do I do?\n",
      "❌ [0.02] - Recruiters really tick me off\n",
      "Its 9am on a weekend and I'm already ticked off. I came across a post on LinkedIn that said recruiters should dress up as ghosts because they ghost candidates. Do recruiters really think this kind of stuff is funny?\n",
      "✅ [0.61] - Emotionally exhausted from this BS market\n",
      "I just need to rant. I never cried so much within a week until now. I have bills to pay, rent is over 2k for a studio, there are no jobs here. I am so tired because this job market is exhausting and everyone is saying its fine.\n",
      "✅ [0.63] - Mind blowing \"counter\" from employer\n",
      "So I'm officially employed as a sales rep on $47k/year, but I've been doing the responsibilities and tasks of the sales manager AND operations manager all year. Both of these official positions have technically been available, but my boss just hasn't bothered hiring for them. I recently got a new job that I start in 2 weeks, which is going to pay me just over $99k/year with additional benefits and allowances. The day after I resigned last week, my boss came at me with the \"official\" promotion to the role I'm doing - $55K. I declined, obviously. He seemed shocked, told me that the money shouldn't be a factor, that I've built up such a great reputation here I'd be throwing my \"career\" away (I've been there for less than 2 years). I told him that it's insulting at this point, and that if he had offered me the position a few months ago I wouldn't have started job searching and would've been elated. I advised him to reward people when it's due, not when you're going to lose them. Now as a result, the location I work at is going to be shut down because he can't find anyone to replace me and the other managers are leaving with me. Karma is sweet. \n"
     ]
    },
    {
     "name": "stderr",
     "output_type": "stream",
     "text": [
      "314it [37:43,  8.04s/it]"
     ]
    }
   ],
   "source": [
    "EPOCHS = 10\n",
    "\n",
    "# TRY LOWERING TO 1e-5 or 2e-5\n",
    "optimizer = torch.optim.Adam(model.parameters(), lr = 3e-5) # 5e-5\n",
    "scheduler = torch.optim.lr_scheduler.StepLR(optimizer, step_size = 1, gamma = 0.5)                                                                                                  \n",
    "train_losses = []\n",
    "val_losses = []\n",
    "\n",
    "f = plotly.graph_objects.FigureWidget().add_scatter(x = [], y = [])\n",
    "display(f)\n",
    "\n",
    "model.train()\n",
    "for epoch in range(EPOCHS):\n",
    "    print(f'***** Epoch {epoch} ')\n",
    "    torch.cuda.empty_cache() \n",
    "    epoch_loss = 0\n",
    "    \n",
    "    for step, batch in tqdm(enumerate(train_dl)):\n",
    "        optimizer.zero_grad()\n",
    "\n",
    "        outputs = model(batch['input_ids'].to(device), batch['attention_mask'].to(device))\n",
    "        loss = F.cross_entropy(outputs['logits'], batch['labels'].to(device))\n",
    "        loss.backward()\n",
    "        \n",
    "        # torch.nn.utils.clip_grad_norm_(model.parameters(), 1.0)\n",
    "        optimizer.step()\n",
    "\n",
    "        # Logging and eval\n",
    "        epoch_loss = epoch_loss + loss.item()\n",
    "        train_losses.append((epoch, step, loss.item()))\n",
    "\n",
    "        if step % 100 == 0 and (step > 0 or epoch > 0): \n",
    "            print(\n",
    "                f\"Step {step}/{len(train_dl)} | \" +\n",
    "                f\"Last 50 batch train NLL: {np.mean([t[2] for t in train_losses][-50:])} | \" +\n",
    "                f\"LR: {optimizer.param_groups[0]['lr']} | \" + \n",
    "                f\"Mem: {round(torch.cuda.memory_allocated(0)/1024**3,1)} GB\"\n",
    "            )\n",
    "            \n",
    "            examples_res = eval_performance_on_examples(model, test_examples)\n",
    "            print(examples_res)\n",
    "            model.train()\n",
    "\n",
    "            losses_df =\\\n",
    "                pd.DataFrame(train_losses, columns = ['epoch', 'step', 'train_loss'])\\\n",
    "                .assign(i = lambda df: range(len(df)), train_loss_roll = lambda df: df['train_loss'].rolling(window = 50).mean())\\\n",
    "                .dropna(axis = 0)\n",
    "            f.data[0].x = losses_df['i'].tolist()\n",
    "            f.data[0].y = losses_df['train_loss_roll'].tolist()\n",
    "\n",
    "    scheduler.step()\n",
    "    \n",
    "    # Logging and eval\n",
    "    print(f'Epoch loss: {epoch_loss}')\n",
    "    eval_res = eval_performance_on_ds(model, val_ds)\n",
    "    model.train()\n",
    "    \n",
    "    val_losses.append({**{'epoch': epoch}, **eval_res})\n",
    "        \n",
    "    # Save ts and ckpt    \n",
    "    torch.save({\n",
    "        'epoch': epoch,\n",
    "        'model_state_dict': model.state_dict(),\n",
    "        'optimizer_state_dict': optimizer.state_dict(),\n",
    "        'train_losses': train_losses,\n",
    "        'val_losses': val_losses\n",
    "    }, f\"{save_dir}/epoch_{str(epoch).rjust(3, '0')}.ckpt\")\n",
    "    \n",
    "    for ex in val_dl:\n",
    "        ex\n",
    "    model_scripted = torch.jit.trace(model, (ex['input_ids'].to(device), ex['attention_mask'].to(device)), strict = False)\n",
    "    model_scripted.save(f\"{save_dir}/epoch_{str(epoch).rjust(3, '0')}.pt\") # Save\n"
   ]
  },
  {
   "cell_type": "code",
   "execution_count": null,
   "id": "30eda039-c7e2-4c21-9791-c804426a8adc",
   "metadata": {
    "scrolled": true
   },
   "outputs": [],
   "source": [
    "val_losses"
   ]
  },
  {
   "cell_type": "code",
   "execution_count": null,
   "id": "9d6cbdc8-6689-4101-a3b6-12a41f736853",
   "metadata": {},
   "outputs": [],
   "source": [
    "val_ds[0]['input_ids']"
   ]
  },
  {
   "cell_type": "code",
   "execution_count": null,
   "id": "48758b66-f63f-4ae0-9fff-fa6098c45b49",
   "metadata": {
    "scrolled": true
   },
   "outputs": [],
   "source": [
    "# Print performance log\n",
    "# import plotly.express as px\n",
    "\n",
    "# losses_df =\\\n",
    "#     pd.DataFrame(train_losses, columns = ['epoch', 'iter', 'train_loss'])\\\n",
    "#     .assign(train_loss_roll = lambda df: df['train_loss'].rolling(window = 2).mean())\\\n",
    "#     .melt(value_vars = ['train_loss_roll'], id_vars = 'iter')\\\n",
    "#     .dropna(axis = 0)\\\n",
    "#     .reset_index(drop = True)\n",
    "#     .merge(pd.DataFrame(test_losses, columns = ['iter', 'test_loss']), how = 'left', on = 'iter')\\\n",
    "\n",
    "# display(px.scatter(losses_df, x = 'iter', y = 'value', color = 'variable'))"
   ]
  },
  {
   "cell_type": "code",
   "execution_count": null,
   "id": "06d106e5-36e3-496a-a604-56cf8d703c9b",
   "metadata": {},
   "outputs": [],
   "source": [
    "# from peft import LoraConfig, TaskType, get_peft_model\n",
    "\n",
    "# lora_config = LoraConfig(\n",
    "#     task_type = TaskType.SEQ_CLS, r = 4, lora_alpha = 1, lora_dropout = 0.1\n",
    "# )\n",
    "\n",
    "# model = get_peft_model(model, lora_config)\n",
    "# model.print_trainable_parameters()\n",
    "# print(model.roberta.encoder.layer[0].attention.self)"
   ]
  }
 ],
 "metadata": {
  "kernelspec": {
   "display_name": "Python 3 (ipykernel)",
   "language": "python",
   "name": "python3"
  },
  "language_info": {
   "codemirror_mode": {
    "name": "ipython",
    "version": 3
   },
   "file_extension": ".py",
   "mimetype": "text/x-python",
   "name": "python",
   "nbconvert_exporter": "python",
   "pygments_lexer": "ipython3",
   "version": "3.11.5"
  }
 },
 "nbformat": 4,
 "nbformat_minor": 5
}
