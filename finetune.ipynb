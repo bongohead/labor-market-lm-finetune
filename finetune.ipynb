{
 "cells": [
  {
   "cell_type": "code",
   "execution_count": 1,
   "id": "d998e535-0f61-4889-9954-80bdfbac312f",
   "metadata": {},
   "outputs": [],
   "source": [
    "PROMPT_ID = 'financial_health_v1'\n",
    "LABEL_KEY = 'employment_status'\n",
    "\n",
    "from helpers.loaders import load_config\n",
    "import torch\n",
    "import torch.nn.functional as F\n",
    "from tqdm import tqdm\n",
    "import numpy as np\n",
    "import pandas as pd\n",
    "import plotly\n",
    "\n",
    "device = torch.device('cuda')\n",
    "label_encoding_map, test_examples = load_config('label_maps.yaml', prompt_id = PROMPT_ID, label_key = LABEL_KEY) # Get config"
   ]
  },
  {
   "cell_type": "markdown",
   "id": "f1348615-ec12-40cc-8a8d-1c4726af6c05",
   "metadata": {},
   "source": [
    "## Get Base Model"
   ]
  },
  {
   "cell_type": "code",
   "execution_count": 2,
   "id": "9c34069d-d622-4fda-b4ec-ca305ab54eaf",
   "metadata": {},
   "outputs": [
    {
     "name": "stderr",
     "output_type": "stream",
     "text": [
      "Some weights of AlbertForSequenceClassification were not initialized from the model checkpoint at albert-base-v2 and are newly initialized: ['classifier.weight', 'classifier.bias']\n",
      "You should probably TRAIN this model on a down-stream task to be able to use it for predictions and inference.\n"
     ]
    },
    {
     "data": {
      "text/plain": [
       "11685891"
      ]
     },
     "execution_count": 2,
     "metadata": {},
     "output_type": "execute_result"
    }
   ],
   "source": [
    "from transformers import AlbertTokenizer, AlbertForSequenceClassification\n",
    "# from transformers import RobertaTokenizer, RobertaForSequenceClassification\n",
    "\n",
    "tokenizer = AlbertTokenizer.from_pretrained('albert-base-v2')\n",
    "model = AlbertForSequenceClassification.from_pretrained('albert-base-v2', num_labels = len(label_encoding_map)).to(device)\n",
    "\n",
    "# Num params\n",
    "sum(p.numel() for p in model.parameters())"
   ]
  },
  {
   "cell_type": "markdown",
   "id": "495bac04-fa74-403a-9fdb-18c7b8789f1c",
   "metadata": {},
   "source": [
    "## Get Data & Configs"
   ]
  },
  {
   "cell_type": "code",
   "execution_count": 3,
   "id": "a8d9d7c5-ed8f-4711-961d-62a446a5d92d",
   "metadata": {
    "scrolled": true
   },
   "outputs": [],
   "source": [
    "# Get data\n",
    "from helpers.db import get_postgres_query\n",
    "\n",
    "raw_data = get_postgres_query(\n",
    "    f\"\"\"\n",
    "    WITH t0 AS (\n",
    "        SELECT \n",
    "            a.post_id, a.label_value AS value, a.label_rationale AS rationale,\n",
    "            CONCAT(TRIM(b.title), '\\n', REGEXP_REPLACE(TRIM(b.selftext), '[\\t\\n\\r]', ' ', 'g')) AS input_text\n",
    "        FROM text_scraper_reddit_llm_scores_v2 a\n",
    "        INNER JOIN text_scraper_reddit_scrapes b\n",
    "            ON a.scrape_id = b.scrape_id\n",
    "        WHERE \n",
    "            a.PROMPT_ID = '{PROMPT_ID}' \n",
    "            AND a.label_key = '{LABEL_KEY}'\n",
    "    )\n",
    "    -- Select where expected token count <= 512\n",
    "    SELECT * \n",
    "    FROM t0\n",
    "    WHERE ARRAY_LENGTH(REGEXP_SPLIT_TO_ARRAY(input_text, '\\\\s+'), 1) * 1.4 <= 512\n",
    "    \"\"\"\n",
    "    ).merge(label_encoding_map, how = 'inner', on = 'value')\n",
    "\n",
    "# 20k total, 16k train. Overweight low-frequency label to the maximum extent possible.\n",
    "input_data =\\\n",
    "    raw_data\\\n",
    "    .sample(n = int(8000 * 1/.8), weights = 1/raw_data.groupby('value')['value'].transform('count')) "
   ]
  },
  {
   "cell_type": "code",
   "execution_count": 4,
   "id": "fae424bd-1300-4326-beb2-7bb381ea655f",
   "metadata": {},
   "outputs": [
    {
     "data": {
      "text/html": [
       "<div>\n",
       "<style scoped>\n",
       "    .dataframe tbody tr th:only-of-type {\n",
       "        vertical-align: middle;\n",
       "    }\n",
       "\n",
       "    .dataframe tbody tr th {\n",
       "        vertical-align: top;\n",
       "    }\n",
       "\n",
       "    .dataframe thead th {\n",
       "        text-align: right;\n",
       "    }\n",
       "</style>\n",
       "<table border=\"1\" class=\"dataframe\">\n",
       "  <thead>\n",
       "    <tr style=\"text-align: right;\">\n",
       "      <th></th>\n",
       "      <th>count</th>\n",
       "    </tr>\n",
       "    <tr>\n",
       "      <th>label_encode</th>\n",
       "      <th></th>\n",
       "    </tr>\n",
       "  </thead>\n",
       "  <tbody>\n",
       "    <tr>\n",
       "      <th>0</th>\n",
       "      <td>2680</td>\n",
       "    </tr>\n",
       "    <tr>\n",
       "      <th>1</th>\n",
       "      <td>3844</td>\n",
       "    </tr>\n",
       "    <tr>\n",
       "      <th>2</th>\n",
       "      <td>3476</td>\n",
       "    </tr>\n",
       "  </tbody>\n",
       "</table>\n",
       "</div>"
      ],
      "text/plain": [
       "              count\n",
       "label_encode       \n",
       "0              2680\n",
       "1              3844\n",
       "2              3476"
      ]
     },
     "execution_count": 4,
     "metadata": {},
     "output_type": "execute_result"
    }
   ],
   "source": [
    "input_data.groupby('label_encode').agg(count = ('post_id', 'count'))"
   ]
  },
  {
   "cell_type": "code",
   "execution_count": 5,
   "id": "ce0a7f61-6955-4918-920e-5ef55223cad1",
   "metadata": {},
   "outputs": [
    {
     "data": {
      "text/html": [
       "<div>\n",
       "<style scoped>\n",
       "    .dataframe tbody tr th:only-of-type {\n",
       "        vertical-align: middle;\n",
       "    }\n",
       "\n",
       "    .dataframe tbody tr th {\n",
       "        vertical-align: top;\n",
       "    }\n",
       "\n",
       "    .dataframe thead th {\n",
       "        text-align: right;\n",
       "    }\n",
       "</style>\n",
       "<table border=\"1\" class=\"dataframe\">\n",
       "  <thead>\n",
       "    <tr style=\"text-align: right;\">\n",
       "      <th></th>\n",
       "      <th>post_id</th>\n",
       "      <th>value</th>\n",
       "      <th>rationale</th>\n",
       "      <th>input_text</th>\n",
       "      <th>label_encode</th>\n",
       "    </tr>\n",
       "  </thead>\n",
       "  <tbody>\n",
       "    <tr>\n",
       "      <th>23932</th>\n",
       "      <td>t3_14x6gqp</td>\n",
       "      <td>employed</td>\n",
       "      <td>The user mentions considering quitting their j...</td>\n",
       "      <td>Should I quit my job because of a family emerg...</td>\n",
       "      <td>1</td>\n",
       "    </tr>\n",
       "    <tr>\n",
       "      <th>30670</th>\n",
       "      <td>t3_x80dpp</td>\n",
       "      <td>unemployed</td>\n",
       "      <td>The user was fired and is seeking a new job.</td>\n",
       "      <td>I was FIRED! Then two years later was forced t...</td>\n",
       "      <td>0</td>\n",
       "    </tr>\n",
       "    <tr>\n",
       "      <th>17146</th>\n",
       "      <td>8xhd98</td>\n",
       "      <td>employed</td>\n",
       "      <td>The user mentions 'the company I work for,' in...</td>\n",
       "      <td>Welcoming suggestions about financing Graduate...</td>\n",
       "      <td>1</td>\n",
       "    </tr>\n",
       "    <tr>\n",
       "      <th>32968</th>\n",
       "      <td>t3_icvy5v</td>\n",
       "      <td>unemployed</td>\n",
       "      <td>The user was terminated from their previous jo...</td>\n",
       "      <td>Advice Needed - Terminated for Embarrassing Re...</td>\n",
       "      <td>0</td>\n",
       "    </tr>\n",
       "    <tr>\n",
       "      <th>34255</th>\n",
       "      <td>t3_zl10bv</td>\n",
       "      <td>unemployed</td>\n",
       "      <td>The user mentions struggling with freelancing ...</td>\n",
       "      <td>Have you ever felt a lack of confidence in you...</td>\n",
       "      <td>0</td>\n",
       "    </tr>\n",
       "  </tbody>\n",
       "</table>\n",
       "</div>"
      ],
      "text/plain": [
       "          post_id       value  \\\n",
       "23932  t3_14x6gqp    employed   \n",
       "30670   t3_x80dpp  unemployed   \n",
       "17146      8xhd98    employed   \n",
       "32968   t3_icvy5v  unemployed   \n",
       "34255   t3_zl10bv  unemployed   \n",
       "\n",
       "                                               rationale  \\\n",
       "23932  The user mentions considering quitting their j...   \n",
       "30670       The user was fired and is seeking a new job.   \n",
       "17146  The user mentions 'the company I work for,' in...   \n",
       "32968  The user was terminated from their previous jo...   \n",
       "34255  The user mentions struggling with freelancing ...   \n",
       "\n",
       "                                              input_text  label_encode  \n",
       "23932  Should I quit my job because of a family emerg...             1  \n",
       "30670  I was FIRED! Then two years later was forced t...             0  \n",
       "17146  Welcoming suggestions about financing Graduate...             1  \n",
       "32968  Advice Needed - Terminated for Embarrassing Re...             0  \n",
       "34255  Have you ever felt a lack of confidence in you...             0  "
      ]
     },
     "execution_count": 5,
     "metadata": {},
     "output_type": "execute_result"
    }
   ],
   "source": [
    "# Prep Datasets & Dataloader\n",
    "from helpers.loaders import TextDataset\n",
    "from torch.utils.data import DataLoader\n",
    "from sklearn.model_selection import train_test_split\n",
    "B = 16\n",
    "\n",
    "train_df, test_df = train_test_split(input_data, test_size = .2, random_state = 1234)\n",
    "train_ds, test_ds = [TextDataset(tokenizer, x['input_text'].tolist(), x['label_encode'].tolist()) for x in [train_df, test_df]]\n",
    "train_dl, test_dl = [DataLoader(x, batch_size = B) for x in [train_ds, test_ds]]\n",
    "\n",
    "examples_ds = TextDataset(tokenizer, [x['text'] for x in test_examples], [x['label'] for x in test_examples])\n",
    "test_df.head(5)"
   ]
  },
  {
   "cell_type": "markdown",
   "id": "70851791-8bfe-4e07-8c18-e411e31153a7",
   "metadata": {},
   "source": [
    "## Test Initial Eval"
   ]
  },
  {
   "cell_type": "code",
   "execution_count": 6,
   "id": "80490ae2-1492-47af-a229-be9d9c6e627a",
   "metadata": {},
   "outputs": [
    {
     "name": "stderr",
     "output_type": "stream",
     "text": [
      "125it [00:37,  3.35it/s]"
     ]
    },
    {
     "name": "stdout",
     "output_type": "stream",
     "text": [
      "{'mean_nll': 1.1455338, 'accuracy': 0.328, 'count': 2000}\n",
      "Correct: 4/9\n",
      "✅ [0.4] - Started searching for jobs and struggling to find anything\n",
      "❌ [0.31] - Just received a new job offer with a big pay raise!\n",
      "❌ [0.27] - How to find a good budgeting app?\n",
      "✅ [0.4] - Emotionally exhausted from this BS market\n",
      "I just need to rant. I never cried so much within a week until now. I have bills to pay, rent is over 2k for a studio, there are no jobs here. I am so tired because this job market is exhausting and everyone is saying its fine.\n",
      "❌ [0.28] - Coworker got a bigger raise than me.\n",
      "❌ [0.26] - Advice on choosing a career path.\n",
      "✅ [0.39] - As a recent college graduate, I thought it wouldn't be that hard to find a job that paid $20 an hour that but I was wrong. There are no entry level jobs in my field or any job that could potentially get my foot in the door pay so little. What is the point of having a college degree if full time jobs won't even allow me to move out and rent a room.\n",
      "✅ [0.45] - What would be considered a decent salary for an apartment costing $1000 per month?\n",
      "Title says it all. Whatâ€™s a decent one (while still having fun money, can save, feel comfortable)?? And what would be the minimum salary for the same apartment, where I could still get by, but fun would be decreased significantly/eating habits would change. \n",
      "❌ [0.22] - Pretty large raise at work\n",
      "I am a 24-year-old working as an HR Assistant/ Recruiter at a well-endowed Non-Profit. I finished an MBA (that was paid for in full by my org) I almost immediately received a massive raise that increased my comp from 50k to 65k. I also work a part-time 1-day week job that will net just shy of 5K this year. I pay around 1K a month for rent and have about 56k remaining in private student loans. Does anyone have any advice for paying down my loans while growing my bank account? I also maintain a 403B and a Roth that I would consider increasing my contributions but would like to grow savings first due to the expensive city I live in.\n"
     ]
    },
    {
     "name": "stderr",
     "output_type": "stream",
     "text": [
      "\n"
     ]
    }
   ],
   "source": [
    "from helpers.loaders import eval_performance, eval_performance_as_str\n",
    "\n",
    "print(eval_performance(model, test_ds, device, batch_size = 16, verbose = True))\n",
    "print(eval_performance_as_str(model, examples_ds, device))"
   ]
  },
  {
   "cell_type": "markdown",
   "id": "7b58139a-fb03-4d2c-a6d7-8181e3c3905d",
   "metadata": {},
   "source": [
    "## Train"
   ]
  },
  {
   "cell_type": "code",
   "execution_count": 7,
   "id": "8863c957-b8a9-420b-b6e1-8f656e57b96e",
   "metadata": {},
   "outputs": [],
   "source": [
    "# Set train confs\n",
    "conf = {\n",
    "    'epochs': 5,\n",
    "    'optim_lr': 2e-5,\n",
    "    'sched_gamma': .5,\n",
    "    'sched_steps': 400, # Drops every 400 * 16 iters\n",
    "    'clip': False\n",
    "}\n",
    "\n",
    "optimizer = torch.optim.Adam(model.parameters(), lr = conf['optim_lr'])\n",
    "scheduler = torch.optim.lr_scheduler.StepLR(optimizer, step_size = conf['sched_steps'], gamma = conf['sched_gamma'])                                                                                                  "
   ]
  },
  {
   "cell_type": "code",
   "execution_count": 8,
   "id": "f1a2c8f6-e2b4-4aee-998a-72d8a99f916b",
   "metadata": {},
   "outputs": [
    {
     "name": "stdout",
     "output_type": "stream",
     "text": [
      "[5.930745856, 8.589410304]\n"
     ]
    },
    {
     "data": {
      "text/plain": [
       "[6.555697152, 8.589410304]"
      ]
     },
     "execution_count": 8,
     "metadata": {},
     "output_type": "execute_result"
    }
   ],
   "source": [
    "# Create save dir\n",
    "from helpers.storage import create_save_dir\n",
    "import json\n",
    "\n",
    "save_dir = create_save_dir(prompt_id = PROMPT_ID, label_key = LABEL_KEY)\n",
    "with open(f'{save_dir}/conf.json', \"w\") as outfile:\n",
    "    outfile.write(json.dumps(conf, indent = 4))\n",
    "\n",
    "print([x/1e9 for x in torch.cuda.mem_get_info()])\n",
    "torch.cuda.empty_cache()\n",
    "[x/1e9 for x in torch.cuda.mem_get_info()]"
   ]
  },
  {
   "cell_type": "code",
   "execution_count": 9,
   "id": "70feffa6-e7fd-48b2-a09c-b53aa2cc3ad9",
   "metadata": {
    "scrolled": true
   },
   "outputs": [
    {
     "data": {
      "application/vnd.jupyter.widget-view+json": {
       "model_id": "1cc7104b12d44330b275490c3f39e8b5",
       "version_major": 2,
       "version_minor": 0
      },
      "text/plain": [
       "FigureWidget({\n",
       "    'data': [{'name': 'train', 'type': 'scatter', 'uid': 'bde544a0-4216-457c-add8-b86ad79f9ba9', 'x': [], 'y': []},\n",
       "             {'name': 'test', 'type': 'scatter', 'uid': 'b33ff2ca-4869-4546-a925-192df81b555a', 'x': [], 'y': []}],\n",
       "    'layout': {'shapes': [{'type': 'line', 'x0': 0, 'x1': 0, 'xref': 'x', 'y0': 0, 'y1': 1, 'yref': 'y domain'},\n",
       "                          {'type': 'line', 'x0': 500, 'x1': 500, 'xref': 'x', 'y0': 0, 'y1': 1, 'yref': 'y domain'},\n",
       "                          {'type': 'line', 'x0': 1000, 'x1': 1000, 'xref': 'x', 'y0': 0, 'y1': 1, 'yref': 'y domain'},\n",
       "                          {'type': 'line', 'x0': 1500, 'x1': 1500, 'xref': 'x', 'y0': 0, 'y1': 1, 'yref': 'y domain'},\n",
       "                          {'type': 'line', 'x0': 2000, 'x1': 2000, 'xref': 'x', 'y0': 0, 'y1': 1, 'yref': 'y domain'}],\n",
       "               'template': '...'}\n",
       "})"
      ]
     },
     "metadata": {},
     "output_type": "display_data"
    },
    {
     "name": "stdout",
     "output_type": "stream",
     "text": [
      "***** Epoch 1 \n"
     ]
    },
    {
     "name": "stderr",
     "output_type": "stream",
     "text": [
      "50it [06:01,  6.92s/it]"
     ]
    },
    {
     "name": "stdout",
     "output_type": "stream",
     "text": [
      "Step 50/500 | Train Loss: 1.091649091243744 | Test Loss: 1.0202927589416504 | LR: 2e-05 | RAM: 0.2 GB\n"
     ]
    },
    {
     "name": "stderr",
     "output_type": "stream",
     "text": [
      "51it [06:44, 17.67s/it]"
     ]
    },
    {
     "name": "stdout",
     "output_type": "stream",
     "text": [
      "Correct: 3/9\n",
      "❌ [0.21] - Started searching for jobs and struggling to find anything\n",
      "❌ [0.28] - Just received a new job offer with a big pay raise!\n",
      "✅ [0.58] - How to find a good budgeting app?\n",
      "❌ [0.34] - Emotionally exhausted from this BS market\n",
      "I just need to rant. I never cried so much within a week until now. I have bills to pay, rent is over 2k for a studio, there are no jobs here. I am so tired because this job market is exhausting and everyone is saying its fine.\n",
      "❌ [0.3] - Coworker got a bigger raise than me.\n",
      "✅ [0.53] - Advice on choosing a career path.\n",
      "❌ [0.29] - As a recent college graduate, I thought it wouldn't be that hard to find a job that paid $20 an hour that but I was wrong. There are no entry level jobs in my field or any job that could potentially get my foot in the door pay so little. What is the point of having a college degree if full time jobs won't even allow me to move out and rent a room.\n",
      "❌ [0.37] - What would be considered a decent salary for an apartment costing $1000 per month?\n",
      "Title says it all. Whatâ€™s a decent one (while still having fun money, can save, feel comfortable)?? And what would be the minimum salary for the same apartment, where I could still get by, but fun would be decreased significantly/eating habits would change. \n",
      "✅ [0.49] - Pretty large raise at work\n",
      "I am a 24-year-old working as an HR Assistant/ Recruiter at a well-endowed Non-Profit. I finished an MBA (that was paid for in full by my org) I almost immediately received a massive raise that increased my comp from 50k to 65k. I also work a part-time 1-day week job that will net just shy of 5K this year. I pay around 1K a month for rent and have about 56k remaining in private student loans. Does anyone have any advice for paying down my loans while growing my bank account? I also maintain a 403B and a Roth that I would consider increasing my contributions but would like to grow savings first due to the expensive city I live in.\n"
     ]
    },
    {
     "name": "stderr",
     "output_type": "stream",
     "text": [
      "100it [12:22,  6.92s/it]"
     ]
    },
    {
     "name": "stdout",
     "output_type": "stream",
     "text": [
      "Step 100/500 | Train Loss: 1.0056297779083252 | Test Loss: 1.0132709741592407 | LR: 2e-05 | RAM: 0.2 GB\n",
      "Correct: 4/9\n",
      "❌ [0.13] - Started searching for jobs and struggling to find anything\n",
      "❌ [0.23] - Just received a new job offer with a big pay raise!\n",
      "✅ [0.69] - How to find a good budgeting app?\n",
      "❌ [0.25] - Emotionally exhausted from this BS market\n",
      "I just need to rant. I never cried so much within a week until now. I have bills to pay, rent is over 2k for a studio, there are no jobs here. I am so tired because this job market is exhausting and everyone is saying its fine.\n",
      "❌ [0.28] - Coworker got a bigger raise than me.\n",
      "✅ [0.64] - Advice on choosing a career path.\n",
      "❌ [0.15] - As a recent college graduate, I thought it wouldn't be that hard to find a job that paid $20 an hour that but I was wrong. There are no entry level jobs in my field or any job that could potentially get my foot in the door pay so little. What is the point of having a college degree if full time jobs won't even allow me to move out and rent a room.\n",
      "✅ [0.57] - What would be considered a decent salary for an apartment costing $1000 per month?\n",
      "Title says it all. Whatâ€™s a decent one (while still having fun money, can save, feel comfortable)?? And what would be the minimum salary for the same apartment, where I could still get by, but fun would be decreased significantly/eating habits would change. \n",
      "✅ [0.48] - Pretty large raise at work\n",
      "I am a 24-year-old working as an HR Assistant/ Recruiter at a well-endowed Non-Profit. I finished an MBA (that was paid for in full by my org) I almost immediately received a massive raise that increased my comp from 50k to 65k. I also work a part-time 1-day week job that will net just shy of 5K this year. I pay around 1K a month for rent and have about 56k remaining in private student loans. Does anyone have any advice for paying down my loans while growing my bank account? I also maintain a 403B and a Roth that I would consider increasing my contributions but would like to grow savings first due to the expensive city I live in.\n"
     ]
    },
    {
     "name": "stderr",
     "output_type": "stream",
     "text": [
      "150it [18:59,  7.16s/it]"
     ]
    },
    {
     "name": "stdout",
     "output_type": "stream",
     "text": [
      "Step 150/500 | Train Loss: 0.954721931219101 | Test Loss: 0.9055272936820984 | LR: 2e-05 | RAM: 0.2 GB\n",
      "Correct: 4/9\n",
      "❌ [0.23] - Started searching for jobs and struggling to find anything\n",
      "❌ [0.18] - Just received a new job offer with a big pay raise!\n",
      "✅ [0.75] - How to find a good budgeting app?\n",
      "✅ [0.56] - Emotionally exhausted from this BS market\n",
      "I just need to rant. I never cried so much within a week until now. I have bills to pay, rent is over 2k for a studio, there are no jobs here. I am so tired because this job market is exhausting and everyone is saying its fine.\n",
      "❌ [0.2] - Coworker got a bigger raise than me.\n",
      "✅ [0.71] - Advice on choosing a career path.\n",
      "❌ [0.23] - As a recent college graduate, I thought it wouldn't be that hard to find a job that paid $20 an hour that but I was wrong. There are no entry level jobs in my field or any job that could potentially get my foot in the door pay so little. What is the point of having a college degree if full time jobs won't even allow me to move out and rent a room.\n",
      "❌ [0.4] - What would be considered a decent salary for an apartment costing $1000 per month?\n",
      "Title says it all. Whatâ€™s a decent one (while still having fun money, can save, feel comfortable)?? And what would be the minimum salary for the same apartment, where I could still get by, but fun would be decreased significantly/eating habits would change. \n",
      "✅ [0.65] - Pretty large raise at work\n",
      "I am a 24-year-old working as an HR Assistant/ Recruiter at a well-endowed Non-Profit. I finished an MBA (that was paid for in full by my org) I almost immediately received a massive raise that increased my comp from 50k to 65k. I also work a part-time 1-day week job that will net just shy of 5K this year. I pay around 1K a month for rent and have about 56k remaining in private student loans. Does anyone have any advice for paying down my loans while growing my bank account? I also maintain a 403B and a Roth that I would consider increasing my contributions but would like to grow savings first due to the expensive city I live in.\n"
     ]
    },
    {
     "name": "stderr",
     "output_type": "stream",
     "text": [
      "200it [25:38,  7.87s/it]"
     ]
    },
    {
     "name": "stdout",
     "output_type": "stream",
     "text": [
      "Step 200/500 | Train Loss: 0.8970774233341217 | Test Loss: 0.8860295414924622 | LR: 2e-05 | RAM: 0.2 GB\n",
      "Correct: 5/9\n",
      "❌ [0.17] - Started searching for jobs and struggling to find anything\n",
      "❌ [0.14] - Just received a new job offer with a big pay raise!\n",
      "✅ [0.8] - How to find a good budgeting app?\n",
      "✅ [0.42] - Emotionally exhausted from this BS market\n",
      "I just need to rant. I never cried so much within a week until now. I have bills to pay, rent is over 2k for a studio, there are no jobs here. I am so tired because this job market is exhausting and everyone is saying its fine.\n",
      "❌ [0.15] - Coworker got a bigger raise than me.\n",
      "✅ [0.76] - Advice on choosing a career path.\n",
      "❌ [0.2] - As a recent college graduate, I thought it wouldn't be that hard to find a job that paid $20 an hour that but I was wrong. There are no entry level jobs in my field or any job that could potentially get my foot in the door pay so little. What is the point of having a college degree if full time jobs won't even allow me to move out and rent a room.\n",
      "✅ [0.71] - What would be considered a decent salary for an apartment costing $1000 per month?\n",
      "Title says it all. Whatâ€™s a decent one (while still having fun money, can save, feel comfortable)?? And what would be the minimum salary for the same apartment, where I could still get by, but fun would be decreased significantly/eating habits would change. \n",
      "✅ [0.76] - Pretty large raise at work\n",
      "I am a 24-year-old working as an HR Assistant/ Recruiter at a well-endowed Non-Profit. I finished an MBA (that was paid for in full by my org) I almost immediately received a massive raise that increased my comp from 50k to 65k. I also work a part-time 1-day week job that will net just shy of 5K this year. I pay around 1K a month for rent and have about 56k remaining in private student loans. Does anyone have any advice for paying down my loans while growing my bank account? I also maintain a 403B and a Roth that I would consider increasing my contributions but would like to grow savings first due to the expensive city I live in.\n"
     ]
    },
    {
     "name": "stderr",
     "output_type": "stream",
     "text": [
      "250it [32:41,  9.00s/it]"
     ]
    },
    {
     "name": "stdout",
     "output_type": "stream",
     "text": [
      "Step 250/500 | Train Loss: 0.8746471226215362 | Test Loss: 0.7795407176017761 | LR: 2e-05 | RAM: 0.2 GB\n"
     ]
    },
    {
     "name": "stderr",
     "output_type": "stream",
     "text": [
      "251it [36:48, 80.31s/it]"
     ]
    },
    {
     "name": "stdout",
     "output_type": "stream",
     "text": [
      "Correct: 6/9\n",
      "✅ [0.46] - Started searching for jobs and struggling to find anything\n",
      "❌ [0.37] - Just received a new job offer with a big pay raise!\n",
      "✅ [0.75] - How to find a good budgeting app?\n",
      "✅ [0.45] - Emotionally exhausted from this BS market\n",
      "I just need to rant. I never cried so much within a week until now. I have bills to pay, rent is over 2k for a studio, there are no jobs here. I am so tired because this job market is exhausting and everyone is saying its fine.\n",
      "❌ [0.27] - Coworker got a bigger raise than me.\n",
      "✅ [0.72] - Advice on choosing a career path.\n",
      "✅ [0.61] - As a recent college graduate, I thought it wouldn't be that hard to find a job that paid $20 an hour that but I was wrong. There are no entry level jobs in my field or any job that could potentially get my foot in the door pay so little. What is the point of having a college degree if full time jobs won't even allow me to move out and rent a room.\n",
      "❌ [0.33] - What would be considered a decent salary for an apartment costing $1000 per month?\n",
      "Title says it all. Whatâ€™s a decent one (while still having fun money, can save, feel comfortable)?? And what would be the minimum salary for the same apartment, where I could still get by, but fun would be decreased significantly/eating habits would change. \n",
      "✅ [0.81] - Pretty large raise at work\n",
      "I am a 24-year-old working as an HR Assistant/ Recruiter at a well-endowed Non-Profit. I finished an MBA (that was paid for in full by my org) I almost immediately received a massive raise that increased my comp from 50k to 65k. I also work a part-time 1-day week job that will net just shy of 5K this year. I pay around 1K a month for rent and have about 56k remaining in private student loans. Does anyone have any advice for paying down my loans while growing my bank account? I also maintain a 403B and a Roth that I would consider increasing my contributions but would like to grow savings first due to the expensive city I live in.\n"
     ]
    },
    {
     "name": "stderr",
     "output_type": "stream",
     "text": [
      "300it [44:43,  9.79s/it]"
     ]
    },
    {
     "name": "stdout",
     "output_type": "stream",
     "text": [
      "Step 300/500 | Train Loss: 0.7927858144044876 | Test Loss: 0.8198189735412598 | LR: 2e-05 | RAM: 0.2 GB\n",
      "Correct: 5/9\n",
      "❌ [0.38] - Started searching for jobs and struggling to find anything\n",
      "✅ [0.81] - Just received a new job offer with a big pay raise!\n",
      "✅ [0.76] - How to find a good budgeting app?\n",
      "❌ [0.1] - Emotionally exhausted from this BS market\n",
      "I just need to rant. I never cried so much within a week until now. I have bills to pay, rent is over 2k for a studio, there are no jobs here. I am so tired because this job market is exhausting and everyone is saying its fine.\n",
      "✅ [0.65] - Coworker got a bigger raise than me.\n",
      "✅ [0.73] - Advice on choosing a career path.\n",
      "❌ [0.33] - As a recent college graduate, I thought it wouldn't be that hard to find a job that paid $20 an hour that but I was wrong. There are no entry level jobs in my field or any job that could potentially get my foot in the door pay so little. What is the point of having a college degree if full time jobs won't even allow me to move out and rent a room.\n",
      "❌ [0.21] - What would be considered a decent salary for an apartment costing $1000 per month?\n",
      "Title says it all. Whatâ€™s a decent one (while still having fun money, can save, feel comfortable)?? And what would be the minimum salary for the same apartment, where I could still get by, but fun would be decreased significantly/eating habits would change. \n",
      "✅ [0.91] - Pretty large raise at work\n",
      "I am a 24-year-old working as an HR Assistant/ Recruiter at a well-endowed Non-Profit. I finished an MBA (that was paid for in full by my org) I almost immediately received a massive raise that increased my comp from 50k to 65k. I also work a part-time 1-day week job that will net just shy of 5K this year. I pay around 1K a month for rent and have about 56k remaining in private student loans. Does anyone have any advice for paying down my loans while growing my bank account? I also maintain a 403B and a Roth that I would consider increasing my contributions but would like to grow savings first due to the expensive city I live in.\n"
     ]
    },
    {
     "name": "stderr",
     "output_type": "stream",
     "text": [
      "350it [56:45,  9.97s/it]"
     ]
    },
    {
     "name": "stdout",
     "output_type": "stream",
     "text": [
      "Step 350/500 | Train Loss: 0.8052419948577881 | Test Loss: 0.7956744432449341 | LR: 2e-05 | RAM: 0.2 GB\n"
     ]
    },
    {
     "name": "stderr",
     "output_type": "stream",
     "text": [
      "351it [58:08, 31.64s/it]"
     ]
    },
    {
     "name": "stdout",
     "output_type": "stream",
     "text": [
      "Correct: 6/9\n",
      "❌ [0.39] - Started searching for jobs and struggling to find anything\n",
      "✅ [0.51] - Just received a new job offer with a big pay raise!\n",
      "✅ [0.82] - How to find a good budgeting app?\n",
      "✅ [0.45] - Emotionally exhausted from this BS market\n",
      "I just need to rant. I never cried so much within a week until now. I have bills to pay, rent is over 2k for a studio, there are no jobs here. I am so tired because this job market is exhausting and everyone is saying its fine.\n",
      "❌ [0.34] - Coworker got a bigger raise than me.\n",
      "✅ [0.8] - Advice on choosing a career path.\n",
      "✅ [0.51] - As a recent college graduate, I thought it wouldn't be that hard to find a job that paid $20 an hour that but I was wrong. There are no entry level jobs in my field or any job that could potentially get my foot in the door pay so little. What is the point of having a college degree if full time jobs won't even allow me to move out and rent a room.\n",
      "❌ [0.41] - What would be considered a decent salary for an apartment costing $1000 per month?\n",
      "Title says it all. Whatâ€™s a decent one (while still having fun money, can save, feel comfortable)?? And what would be the minimum salary for the same apartment, where I could still get by, but fun would be decreased significantly/eating habits would change. \n",
      "✅ [0.88] - Pretty large raise at work\n",
      "I am a 24-year-old working as an HR Assistant/ Recruiter at a well-endowed Non-Profit. I finished an MBA (that was paid for in full by my org) I almost immediately received a massive raise that increased my comp from 50k to 65k. I also work a part-time 1-day week job that will net just shy of 5K this year. I pay around 1K a month for rent and have about 56k remaining in private student loans. Does anyone have any advice for paying down my loans while growing my bank account? I also maintain a 403B and a Roth that I would consider increasing my contributions but would like to grow savings first due to the expensive city I live in.\n"
     ]
    },
    {
     "name": "stderr",
     "output_type": "stream",
     "text": [
      "400it [1:04:16,  7.58s/it]"
     ]
    },
    {
     "name": "stdout",
     "output_type": "stream",
     "text": [
      "Step 400/500 | Train Loss: 0.8170648682117462 | Test Loss: 0.7756637930870056 | LR: 1e-05 | RAM: 0.2 GB\n",
      "Correct: 8/9\n",
      "✅ [0.62] - Started searching for jobs and struggling to find anything\n",
      "❌ [0.23] - Just received a new job offer with a big pay raise!\n",
      "✅ [0.78] - How to find a good budgeting app?\n",
      "✅ [0.73] - Emotionally exhausted from this BS market\n",
      "I just need to rant. I never cried so much within a week until now. I have bills to pay, rent is over 2k for a studio, there are no jobs here. I am so tired because this job market is exhausting and everyone is saying its fine.\n",
      "✅ [0.46] - Coworker got a bigger raise than me.\n",
      "✅ [0.77] - Advice on choosing a career path.\n",
      "✅ [0.6] - As a recent college graduate, I thought it wouldn't be that hard to find a job that paid $20 an hour that but I was wrong. There are no entry level jobs in my field or any job that could potentially get my foot in the door pay so little. What is the point of having a college degree if full time jobs won't even allow me to move out and rent a room.\n",
      "✅ [0.68] - What would be considered a decent salary for an apartment costing $1000 per month?\n",
      "Title says it all. Whatâ€™s a decent one (while still having fun money, can save, feel comfortable)?? And what would be the minimum salary for the same apartment, where I could still get by, but fun would be decreased significantly/eating habits would change. \n",
      "✅ [0.8] - Pretty large raise at work\n",
      "I am a 24-year-old working as an HR Assistant/ Recruiter at a well-endowed Non-Profit. I finished an MBA (that was paid for in full by my org) I almost immediately received a massive raise that increased my comp from 50k to 65k. I also work a part-time 1-day week job that will net just shy of 5K this year. I pay around 1K a month for rent and have about 56k remaining in private student loans. Does anyone have any advice for paying down my loans while growing my bank account? I also maintain a 403B and a Roth that I would consider increasing my contributions but would like to grow savings first due to the expensive city I live in.\n"
     ]
    },
    {
     "name": "stderr",
     "output_type": "stream",
     "text": [
      "450it [1:12:44,  7.61s/it]"
     ]
    },
    {
     "name": "stdout",
     "output_type": "stream",
     "text": [
      "Step 450/500 | Train Loss: 0.7891366374492645 | Test Loss: 0.7331966757774353 | LR: 1e-05 | RAM: 0.2 GB\n"
     ]
    },
    {
     "name": "stderr",
     "output_type": "stream",
     "text": [
      "451it [1:14:48, 42.43s/it]"
     ]
    },
    {
     "name": "stdout",
     "output_type": "stream",
     "text": [
      "Correct: 8/9\n",
      "✅ [0.75] - Started searching for jobs and struggling to find anything\n",
      "❌ [0.32] - Just received a new job offer with a big pay raise!\n",
      "✅ [0.76] - How to find a good budgeting app?\n",
      "✅ [0.88] - Emotionally exhausted from this BS market\n",
      "I just need to rant. I never cried so much within a week until now. I have bills to pay, rent is over 2k for a studio, there are no jobs here. I am so tired because this job market is exhausting and everyone is saying its fine.\n",
      "✅ [0.45] - Coworker got a bigger raise than me.\n",
      "✅ [0.76] - Advice on choosing a career path.\n",
      "✅ [0.85] - As a recent college graduate, I thought it wouldn't be that hard to find a job that paid $20 an hour that but I was wrong. There are no entry level jobs in my field or any job that could potentially get my foot in the door pay so little. What is the point of having a college degree if full time jobs won't even allow me to move out and rent a room.\n",
      "✅ [0.61] - What would be considered a decent salary for an apartment costing $1000 per month?\n",
      "Title says it all. Whatâ€™s a decent one (while still having fun money, can save, feel comfortable)?? And what would be the minimum salary for the same apartment, where I could still get by, but fun would be decreased significantly/eating habits would change. \n",
      "✅ [0.82] - Pretty large raise at work\n",
      "I am a 24-year-old working as an HR Assistant/ Recruiter at a well-endowed Non-Profit. I finished an MBA (that was paid for in full by my org) I almost immediately received a massive raise that increased my comp from 50k to 65k. I also work a part-time 1-day week job that will net just shy of 5K this year. I pay around 1K a month for rent and have about 56k remaining in private student loans. Does anyone have any advice for paying down my loans while growing my bank account? I also maintain a 403B and a Roth that I would consider increasing my contributions but would like to grow savings first due to the expensive city I live in.\n"
     ]
    },
    {
     "name": "stderr",
     "output_type": "stream",
     "text": [
      "500it [1:21:01,  9.72s/it]\n"
     ]
    },
    {
     "name": "stdout",
     "output_type": "stream",
     "text": [
      "***** Epoch 2 \n"
     ]
    },
    {
     "name": "stderr",
     "output_type": "stream",
     "text": [
      "0it [00:00, ?it/s]"
     ]
    },
    {
     "name": "stdout",
     "output_type": "stream",
     "text": [
      "Step 0/500 | Train Loss: 0.7793787455558777 | Test Loss: 0.7641481757164001 | LR: 1e-05 | RAM: 0.2 GB\n",
      "Correct: 5/9\n",
      "❌ [0.46] - Started searching for jobs and struggling to find anything\n",
      "❌ [0.37] - Just received a new job offer with a big pay raise!\n",
      "✅ [0.8] - How to find a good budgeting app?\n",
      "✅ [0.5] - Emotionally exhausted from this BS market\n",
      "I just need to rant. I never cried so much within a week until now. I have bills to pay, rent is over 2k for a studio, there are no jobs here. I am so tired because this job market is exhausting and everyone is saying its fine.\n",
      "❌ [0.43] - Coworker got a bigger raise than me.\n",
      "✅ [0.8] - Advice on choosing a career path.\n",
      "❌ [0.39] - As a recent college graduate, I thought it wouldn't be that hard to find a job that paid $20 an hour that but I was wrong. There are no entry level jobs in my field or any job that could potentially get my foot in the door pay so little. What is the point of having a college degree if full time jobs won't even allow me to move out and rent a room.\n",
      "✅ [0.62] - What would be considered a decent salary for an apartment costing $1000 per month?\n",
      "Title says it all. Whatâ€™s a decent one (while still having fun money, can save, feel comfortable)?? And what would be the minimum salary for the same apartment, where I could still get by, but fun would be decreased significantly/eating habits would change. \n",
      "✅ [0.88] - Pretty large raise at work\n",
      "I am a 24-year-old working as an HR Assistant/ Recruiter at a well-endowed Non-Profit. I finished an MBA (that was paid for in full by my org) I almost immediately received a massive raise that increased my comp from 50k to 65k. I also work a part-time 1-day week job that will net just shy of 5K this year. I pay around 1K a month for rent and have about 56k remaining in private student loans. Does anyone have any advice for paying down my loans while growing my bank account? I also maintain a 403B and a Roth that I would consider increasing my contributions but would like to grow savings first due to the expensive city I live in.\n"
     ]
    },
    {
     "name": "stderr",
     "output_type": "stream",
     "text": [
      "50it [07:19,  7.71s/it]"
     ]
    },
    {
     "name": "stdout",
     "output_type": "stream",
     "text": [
      "Step 50/500 | Train Loss: 0.7619246315956115 | Test Loss: 0.7199220657348633 | LR: 1e-05 | RAM: 0.2 GB\n"
     ]
    },
    {
     "name": "stderr",
     "output_type": "stream",
     "text": [
      "51it [08:05, 19.23s/it]"
     ]
    },
    {
     "name": "stdout",
     "output_type": "stream",
     "text": [
      "Correct: 8/9\n",
      "✅ [0.56] - Started searching for jobs and struggling to find anything\n",
      "❌ [0.38] - Just received a new job offer with a big pay raise!\n",
      "✅ [0.78] - How to find a good budgeting app?\n",
      "✅ [0.75] - Emotionally exhausted from this BS market\n",
      "I just need to rant. I never cried so much within a week until now. I have bills to pay, rent is over 2k for a studio, there are no jobs here. I am so tired because this job market is exhausting and everyone is saying its fine.\n",
      "✅ [0.55] - Coworker got a bigger raise than me.\n",
      "✅ [0.79] - Advice on choosing a career path.\n",
      "✅ [0.6] - As a recent college graduate, I thought it wouldn't be that hard to find a job that paid $20 an hour that but I was wrong. There are no entry level jobs in my field or any job that could potentially get my foot in the door pay so little. What is the point of having a college degree if full time jobs won't even allow me to move out and rent a room.\n",
      "✅ [0.64] - What would be considered a decent salary for an apartment costing $1000 per month?\n",
      "Title says it all. Whatâ€™s a decent one (while still having fun money, can save, feel comfortable)?? And what would be the minimum salary for the same apartment, where I could still get by, but fun would be decreased significantly/eating habits would change. \n",
      "✅ [0.9] - Pretty large raise at work\n",
      "I am a 24-year-old working as an HR Assistant/ Recruiter at a well-endowed Non-Profit. I finished an MBA (that was paid for in full by my org) I almost immediately received a massive raise that increased my comp from 50k to 65k. I also work a part-time 1-day week job that will net just shy of 5K this year. I pay around 1K a month for rent and have about 56k remaining in private student loans. Does anyone have any advice for paying down my loans while growing my bank account? I also maintain a 403B and a Roth that I would consider increasing my contributions but would like to grow savings first due to the expensive city I live in.\n"
     ]
    },
    {
     "name": "stderr",
     "output_type": "stream",
     "text": [
      "100it [16:17,  9.44s/it]"
     ]
    },
    {
     "name": "stdout",
     "output_type": "stream",
     "text": [
      "Step 100/500 | Train Loss: 0.7476205354928971 | Test Loss: 0.73734450340271 | LR: 1e-05 | RAM: 0.2 GB\n",
      "Correct: 7/9\n",
      "❌ [0.19] - Started searching for jobs and struggling to find anything\n",
      "✅ [0.44] - Just received a new job offer with a big pay raise!\n",
      "✅ [0.83] - How to find a good budgeting app?\n",
      "✅ [0.6] - Emotionally exhausted from this BS market\n",
      "I just need to rant. I never cried so much within a week until now. I have bills to pay, rent is over 2k for a studio, there are no jobs here. I am so tired because this job market is exhausting and everyone is saying its fine.\n",
      "✅ [0.59] - Coworker got a bigger raise than me.\n",
      "✅ [0.84] - Advice on choosing a career path.\n",
      "❌ [0.24] - As a recent college graduate, I thought it wouldn't be that hard to find a job that paid $20 an hour that but I was wrong. There are no entry level jobs in my field or any job that could potentially get my foot in the door pay so little. What is the point of having a college degree if full time jobs won't even allow me to move out and rent a room.\n",
      "✅ [0.74] - What would be considered a decent salary for an apartment costing $1000 per month?\n",
      "Title says it all. Whatâ€™s a decent one (while still having fun money, can save, feel comfortable)?? And what would be the minimum salary for the same apartment, where I could still get by, but fun would be decreased significantly/eating habits would change. \n",
      "✅ [0.9] - Pretty large raise at work\n",
      "I am a 24-year-old working as an HR Assistant/ Recruiter at a well-endowed Non-Profit. I finished an MBA (that was paid for in full by my org) I almost immediately received a massive raise that increased my comp from 50k to 65k. I also work a part-time 1-day week job that will net just shy of 5K this year. I pay around 1K a month for rent and have about 56k remaining in private student loans. Does anyone have any advice for paying down my loans while growing my bank account? I also maintain a 403B and a Roth that I would consider increasing my contributions but would like to grow savings first due to the expensive city I live in.\n"
     ]
    },
    {
     "name": "stderr",
     "output_type": "stream",
     "text": [
      "150it [23:48,  7.76s/it]"
     ]
    },
    {
     "name": "stdout",
     "output_type": "stream",
     "text": [
      "Step 150/500 | Train Loss: 0.7279919368028641 | Test Loss: 0.7222344875335693 | LR: 1e-05 | RAM: 0.2 GB\n"
     ]
    },
    {
     "name": "stderr",
     "output_type": "stream",
     "text": [
      "151it [24:36, 19.90s/it]"
     ]
    },
    {
     "name": "stdout",
     "output_type": "stream",
     "text": [
      "Correct: 7/9\n",
      "❌ [0.4] - Started searching for jobs and struggling to find anything\n",
      "✅ [0.53] - Just received a new job offer with a big pay raise!\n",
      "✅ [0.79] - How to find a good budgeting app?\n",
      "✅ [0.55] - Emotionally exhausted from this BS market\n",
      "I just need to rant. I never cried so much within a week until now. I have bills to pay, rent is over 2k for a studio, there are no jobs here. I am so tired because this job market is exhausting and everyone is saying its fine.\n",
      "✅ [0.65] - Coworker got a bigger raise than me.\n",
      "✅ [0.79] - Advice on choosing a career path.\n",
      "❌ [0.3] - As a recent college graduate, I thought it wouldn't be that hard to find a job that paid $20 an hour that but I was wrong. There are no entry level jobs in my field or any job that could potentially get my foot in the door pay so little. What is the point of having a college degree if full time jobs won't even allow me to move out and rent a room.\n",
      "✅ [0.68] - What would be considered a decent salary for an apartment costing $1000 per month?\n",
      "Title says it all. Whatâ€™s a decent one (while still having fun money, can save, feel comfortable)?? And what would be the minimum salary for the same apartment, where I could still get by, but fun would be decreased significantly/eating habits would change. \n",
      "✅ [0.9] - Pretty large raise at work\n",
      "I am a 24-year-old working as an HR Assistant/ Recruiter at a well-endowed Non-Profit. I finished an MBA (that was paid for in full by my org) I almost immediately received a massive raise that increased my comp from 50k to 65k. I also work a part-time 1-day week job that will net just shy of 5K this year. I pay around 1K a month for rent and have about 56k remaining in private student loans. Does anyone have any advice for paying down my loans while growing my bank account? I also maintain a 403B and a Roth that I would consider increasing my contributions but would like to grow savings first due to the expensive city I live in.\n"
     ]
    },
    {
     "name": "stderr",
     "output_type": "stream",
     "text": [
      "200it [31:16,  8.64s/it]"
     ]
    },
    {
     "name": "stdout",
     "output_type": "stream",
     "text": [
      "Step 200/500 | Train Loss: 0.6826962471008301 | Test Loss: 0.7194877862930298 | LR: 1e-05 | RAM: 0.2 GB\n",
      "Correct: 9/9\n",
      "✅ [0.59] - Started searching for jobs and struggling to find anything\n",
      "✅ [0.45] - Just received a new job offer with a big pay raise!\n",
      "✅ [0.8] - How to find a good budgeting app?\n",
      "✅ [0.79] - Emotionally exhausted from this BS market\n",
      "I just need to rant. I never cried so much within a week until now. I have bills to pay, rent is over 2k for a studio, there are no jobs here. I am so tired because this job market is exhausting and everyone is saying its fine.\n",
      "✅ [0.58] - Coworker got a bigger raise than me.\n",
      "✅ [0.82] - Advice on choosing a career path.\n",
      "✅ [0.52] - As a recent college graduate, I thought it wouldn't be that hard to find a job that paid $20 an hour that but I was wrong. There are no entry level jobs in my field or any job that could potentially get my foot in the door pay so little. What is the point of having a college degree if full time jobs won't even allow me to move out and rent a room.\n",
      "✅ [0.7] - What would be considered a decent salary for an apartment costing $1000 per month?\n",
      "Title says it all. Whatâ€™s a decent one (while still having fun money, can save, feel comfortable)?? And what would be the minimum salary for the same apartment, where I could still get by, but fun would be decreased significantly/eating habits would change. \n",
      "✅ [0.91] - Pretty large raise at work\n",
      "I am a 24-year-old working as an HR Assistant/ Recruiter at a well-endowed Non-Profit. I finished an MBA (that was paid for in full by my org) I almost immediately received a massive raise that increased my comp from 50k to 65k. I also work a part-time 1-day week job that will net just shy of 5K this year. I pay around 1K a month for rent and have about 56k remaining in private student loans. Does anyone have any advice for paying down my loans while growing my bank account? I also maintain a 403B and a Roth that I would consider increasing my contributions but would like to grow savings first due to the expensive city I live in.\n"
     ]
    },
    {
     "name": "stderr",
     "output_type": "stream",
     "text": [
      "250it [38:30,  7.88s/it]"
     ]
    },
    {
     "name": "stdout",
     "output_type": "stream",
     "text": [
      "Step 250/500 | Train Loss: 0.6481422919034958 | Test Loss: 0.7133858799934387 | LR: 1e-05 | RAM: 0.2 GB\n"
     ]
    },
    {
     "name": "stderr",
     "output_type": "stream",
     "text": [
      "251it [39:18, 20.16s/it]"
     ]
    },
    {
     "name": "stdout",
     "output_type": "stream",
     "text": [
      "Correct: 8/9\n",
      "✅ [0.75] - Started searching for jobs and struggling to find anything\n",
      "✅ [0.64] - Just received a new job offer with a big pay raise!\n",
      "✅ [0.83] - How to find a good budgeting app?\n",
      "✅ [0.77] - Emotionally exhausted from this BS market\n",
      "I just need to rant. I never cried so much within a week until now. I have bills to pay, rent is over 2k for a studio, there are no jobs here. I am so tired because this job market is exhausting and everyone is saying its fine.\n",
      "✅ [0.7] - Coworker got a bigger raise than me.\n",
      "✅ [0.84] - Advice on choosing a career path.\n",
      "✅ [0.67] - As a recent college graduate, I thought it wouldn't be that hard to find a job that paid $20 an hour that but I was wrong. There are no entry level jobs in my field or any job that could potentially get my foot in the door pay so little. What is the point of having a college degree if full time jobs won't even allow me to move out and rent a room.\n",
      "❌ [0.45] - What would be considered a decent salary for an apartment costing $1000 per month?\n",
      "Title says it all. Whatâ€™s a decent one (while still having fun money, can save, feel comfortable)?? And what would be the minimum salary for the same apartment, where I could still get by, but fun would be decreased significantly/eating habits would change. \n",
      "✅ [0.92] - Pretty large raise at work\n",
      "I am a 24-year-old working as an HR Assistant/ Recruiter at a well-endowed Non-Profit. I finished an MBA (that was paid for in full by my org) I almost immediately received a massive raise that increased my comp from 50k to 65k. I also work a part-time 1-day week job that will net just shy of 5K this year. I pay around 1K a month for rent and have about 56k remaining in private student loans. Does anyone have any advice for paying down my loans while growing my bank account? I also maintain a 403B and a Roth that I would consider increasing my contributions but would like to grow savings first due to the expensive city I live in.\n"
     ]
    },
    {
     "name": "stderr",
     "output_type": "stream",
     "text": [
      "300it [50:45, 17.99s/it]"
     ]
    },
    {
     "name": "stdout",
     "output_type": "stream",
     "text": [
      "Step 300/500 | Train Loss: 0.6334159845113754 | Test Loss: 0.8035033941268921 | LR: 5e-06 | RAM: 0.2 GB\n",
      "Correct: 8/9\n",
      "✅ [0.88] - Started searching for jobs and struggling to find anything\n",
      "✅ [0.8] - Just received a new job offer with a big pay raise!\n",
      "✅ [0.82] - How to find a good budgeting app?\n",
      "✅ [0.65] - Emotionally exhausted from this BS market\n",
      "I just need to rant. I never cried so much within a week until now. I have bills to pay, rent is over 2k for a studio, there are no jobs here. I am so tired because this job market is exhausting and everyone is saying its fine.\n",
      "✅ [0.82] - Coworker got a bigger raise than me.\n",
      "✅ [0.82] - Advice on choosing a career path.\n",
      "✅ [0.88] - As a recent college graduate, I thought it wouldn't be that hard to find a job that paid $20 an hour that but I was wrong. There are no entry level jobs in my field or any job that could potentially get my foot in the door pay so little. What is the point of having a college degree if full time jobs won't even allow me to move out and rent a room.\n",
      "❌ [0.13] - What would be considered a decent salary for an apartment costing $1000 per month?\n",
      "Title says it all. Whatâ€™s a decent one (while still having fun money, can save, feel comfortable)?? And what would be the minimum salary for the same apartment, where I could still get by, but fun would be decreased significantly/eating habits would change. \n",
      "✅ [0.94] - Pretty large raise at work\n",
      "I am a 24-year-old working as an HR Assistant/ Recruiter at a well-endowed Non-Profit. I finished an MBA (that was paid for in full by my org) I almost immediately received a massive raise that increased my comp from 50k to 65k. I also work a part-time 1-day week job that will net just shy of 5K this year. I pay around 1K a month for rent and have about 56k remaining in private student loans. Does anyone have any advice for paying down my loans while growing my bank account? I also maintain a 403B and a Roth that I would consider increasing my contributions but would like to grow savings first due to the expensive city I live in.\n"
     ]
    },
    {
     "name": "stderr",
     "output_type": "stream",
     "text": [
      "350it [1:23:36, 12.49s/it] "
     ]
    },
    {
     "name": "stdout",
     "output_type": "stream",
     "text": [
      "Step 350/500 | Train Loss: 0.6247012865543365 | Test Loss: 0.7174273729324341 | LR: 5e-06 | RAM: 0.2 GB\n",
      "Correct: 9/9\n",
      "✅ [0.81] - Started searching for jobs and struggling to find anything\n",
      "✅ [0.63] - Just received a new job offer with a big pay raise!\n",
      "✅ [0.85] - How to find a good budgeting app?\n",
      "✅ [0.86] - Emotionally exhausted from this BS market\n",
      "I just need to rant. I never cried so much within a week until now. I have bills to pay, rent is over 2k for a studio, there are no jobs here. I am so tired because this job market is exhausting and everyone is saying its fine.\n",
      "✅ [0.76] - Coworker got a bigger raise than me.\n",
      "✅ [0.86] - Advice on choosing a career path.\n",
      "✅ [0.7] - As a recent college graduate, I thought it wouldn't be that hard to find a job that paid $20 an hour that but I was wrong. There are no entry level jobs in my field or any job that could potentially get my foot in the door pay so little. What is the point of having a college degree if full time jobs won't even allow me to move out and rent a room.\n",
      "✅ [0.66] - What would be considered a decent salary for an apartment costing $1000 per month?\n",
      "Title says it all. Whatâ€™s a decent one (while still having fun money, can save, feel comfortable)?? And what would be the minimum salary for the same apartment, where I could still get by, but fun would be decreased significantly/eating habits would change. \n",
      "✅ [0.94] - Pretty large raise at work\n",
      "I am a 24-year-old working as an HR Assistant/ Recruiter at a well-endowed Non-Profit. I finished an MBA (that was paid for in full by my org) I almost immediately received a massive raise that increased my comp from 50k to 65k. I also work a part-time 1-day week job that will net just shy of 5K this year. I pay around 1K a month for rent and have about 56k remaining in private student loans. Does anyone have any advice for paying down my loans while growing my bank account? I also maintain a 403B and a Roth that I would consider increasing my contributions but would like to grow savings first due to the expensive city I live in.\n"
     ]
    },
    {
     "name": "stderr",
     "output_type": "stream",
     "text": [
      "400it [1:46:58, 12.90s/it] "
     ]
    },
    {
     "name": "stdout",
     "output_type": "stream",
     "text": [
      "Step 400/500 | Train Loss: 0.630644878745079 | Test Loss: 0.7312592267990112 | LR: 5e-06 | RAM: 0.2 GB\n",
      "Correct: 8/9\n",
      "✅ [0.61] - Started searching for jobs and struggling to find anything\n",
      "✅ [0.61] - Just received a new job offer with a big pay raise!\n",
      "✅ [0.85] - How to find a good budgeting app?\n",
      "✅ [0.76] - Emotionally exhausted from this BS market\n",
      "I just need to rant. I never cried so much within a week until now. I have bills to pay, rent is over 2k for a studio, there are no jobs here. I am so tired because this job market is exhausting and everyone is saying its fine.\n",
      "✅ [0.75] - Coworker got a bigger raise than me.\n",
      "✅ [0.85] - Advice on choosing a career path.\n",
      "❌ [0.36] - As a recent college graduate, I thought it wouldn't be that hard to find a job that paid $20 an hour that but I was wrong. There are no entry level jobs in my field or any job that could potentially get my foot in the door pay so little. What is the point of having a college degree if full time jobs won't even allow me to move out and rent a room.\n",
      "✅ [0.7] - What would be considered a decent salary for an apartment costing $1000 per month?\n",
      "Title says it all. Whatâ€™s a decent one (while still having fun money, can save, feel comfortable)?? And what would be the minimum salary for the same apartment, where I could still get by, but fun would be decreased significantly/eating habits would change. \n",
      "✅ [0.94] - Pretty large raise at work\n",
      "I am a 24-year-old working as an HR Assistant/ Recruiter at a well-endowed Non-Profit. I finished an MBA (that was paid for in full by my org) I almost immediately received a massive raise that increased my comp from 50k to 65k. I also work a part-time 1-day week job that will net just shy of 5K this year. I pay around 1K a month for rent and have about 56k remaining in private student loans. Does anyone have any advice for paying down my loans while growing my bank account? I also maintain a 403B and a Roth that I would consider increasing my contributions but would like to grow savings first due to the expensive city I live in.\n"
     ]
    },
    {
     "name": "stderr",
     "output_type": "stream",
     "text": [
      "450it [2:09:55, 11.70s/it] "
     ]
    },
    {
     "name": "stdout",
     "output_type": "stream",
     "text": [
      "Step 450/500 | Train Loss: 0.6895911401510239 | Test Loss: 0.7163817286491394 | LR: 5e-06 | RAM: 0.2 GB\n",
      "Correct: 9/9\n",
      "✅ [0.88] - Started searching for jobs and struggling to find anything\n",
      "✅ [0.62] - Just received a new job offer with a big pay raise!\n",
      "✅ [0.85] - How to find a good budgeting app?\n",
      "✅ [0.94] - Emotionally exhausted from this BS market\n",
      "I just need to rant. I never cried so much within a week until now. I have bills to pay, rent is over 2k for a studio, there are no jobs here. I am so tired because this job market is exhausting and everyone is saying its fine.\n",
      "✅ [0.69] - Coworker got a bigger raise than me.\n",
      "✅ [0.83] - Advice on choosing a career path.\n",
      "✅ [0.9] - As a recent college graduate, I thought it wouldn't be that hard to find a job that paid $20 an hour that but I was wrong. There are no entry level jobs in my field or any job that could potentially get my foot in the door pay so little. What is the point of having a college degree if full time jobs won't even allow me to move out and rent a room.\n",
      "✅ [0.63] - What would be considered a decent salary for an apartment costing $1000 per month?\n",
      "Title says it all. Whatâ€™s a decent one (while still having fun money, can save, feel comfortable)?? And what would be the minimum salary for the same apartment, where I could still get by, but fun would be decreased significantly/eating habits would change. \n",
      "✅ [0.91] - Pretty large raise at work\n",
      "I am a 24-year-old working as an HR Assistant/ Recruiter at a well-endowed Non-Profit. I finished an MBA (that was paid for in full by my org) I almost immediately received a massive raise that increased my comp from 50k to 65k. I also work a part-time 1-day week job that will net just shy of 5K this year. I pay around 1K a month for rent and have about 56k remaining in private student loans. Does anyone have any advice for paying down my loans while growing my bank account? I also maintain a 403B and a Roth that I would consider increasing my contributions but would like to grow savings first due to the expensive city I live in.\n"
     ]
    },
    {
     "name": "stderr",
     "output_type": "stream",
     "text": [
      "500it [2:32:22, 18.28s/it] \n"
     ]
    },
    {
     "name": "stdout",
     "output_type": "stream",
     "text": [
      "***** Epoch 3 \n"
     ]
    },
    {
     "name": "stderr",
     "output_type": "stream",
     "text": [
      "0it [00:00, ?it/s]"
     ]
    },
    {
     "name": "stdout",
     "output_type": "stream",
     "text": [
      "Step 0/500 | Train Loss: 0.6634761655330658 | Test Loss: 0.719723105430603 | LR: 5e-06 | RAM: 0.2 GB\n",
      "Correct: 8/9\n",
      "✅ [0.8] - Started searching for jobs and struggling to find anything\n",
      "✅ [0.67] - Just received a new job offer with a big pay raise!\n",
      "✅ [0.86] - How to find a good budgeting app?\n",
      "✅ [0.86] - Emotionally exhausted from this BS market\n",
      "I just need to rant. I never cried so much within a week until now. I have bills to pay, rent is over 2k for a studio, there are no jobs here. I am so tired because this job market is exhausting and everyone is saying its fine.\n",
      "✅ [0.69] - Coworker got a bigger raise than me.\n",
      "✅ [0.84] - Advice on choosing a career path.\n",
      "❌ [0.45] - As a recent college graduate, I thought it wouldn't be that hard to find a job that paid $20 an hour that but I was wrong. There are no entry level jobs in my field or any job that could potentially get my foot in the door pay so little. What is the point of having a college degree if full time jobs won't even allow me to move out and rent a room.\n",
      "✅ [0.71] - What would be considered a decent salary for an apartment costing $1000 per month?\n",
      "Title says it all. Whatâ€™s a decent one (while still having fun money, can save, feel comfortable)?? And what would be the minimum salary for the same apartment, where I could still get by, but fun would be decreased significantly/eating habits would change. \n",
      "✅ [0.91] - Pretty large raise at work\n",
      "I am a 24-year-old working as an HR Assistant/ Recruiter at a well-endowed Non-Profit. I finished an MBA (that was paid for in full by my org) I almost immediately received a massive raise that increased my comp from 50k to 65k. I also work a part-time 1-day week job that will net just shy of 5K this year. I pay around 1K a month for rent and have about 56k remaining in private student loans. Does anyone have any advice for paying down my loans while growing my bank account? I also maintain a 403B and a Roth that I would consider increasing my contributions but would like to grow savings first due to the expensive city I live in.\n"
     ]
    },
    {
     "name": "stderr",
     "output_type": "stream",
     "text": [
      "50it [07:03,  7.67s/it]"
     ]
    },
    {
     "name": "stdout",
     "output_type": "stream",
     "text": [
      "Step 50/500 | Train Loss: 0.6351239460706711 | Test Loss: 0.7400495409965515 | LR: 5e-06 | RAM: 0.2 GB\n",
      "Correct: 9/9\n",
      "✅ [0.84] - Started searching for jobs and struggling to find anything\n",
      "✅ [0.69] - Just received a new job offer with a big pay raise!\n",
      "✅ [0.83] - How to find a good budgeting app?\n",
      "✅ [0.92] - Emotionally exhausted from this BS market\n",
      "I just need to rant. I never cried so much within a week until now. I have bills to pay, rent is over 2k for a studio, there are no jobs here. I am so tired because this job market is exhausting and everyone is saying its fine.\n",
      "✅ [0.72] - Coworker got a bigger raise than me.\n",
      "✅ [0.84] - Advice on choosing a career path.\n",
      "✅ [0.66] - As a recent college graduate, I thought it wouldn't be that hard to find a job that paid $20 an hour that but I was wrong. There are no entry level jobs in my field or any job that could potentially get my foot in the door pay so little. What is the point of having a college degree if full time jobs won't even allow me to move out and rent a room.\n",
      "✅ [0.62] - What would be considered a decent salary for an apartment costing $1000 per month?\n",
      "Title says it all. Whatâ€™s a decent one (while still having fun money, can save, feel comfortable)?? And what would be the minimum salary for the same apartment, where I could still get by, but fun would be decreased significantly/eating habits would change. \n",
      "✅ [0.91] - Pretty large raise at work\n",
      "I am a 24-year-old working as an HR Assistant/ Recruiter at a well-endowed Non-Profit. I finished an MBA (that was paid for in full by my org) I almost immediately received a massive raise that increased my comp from 50k to 65k. I also work a part-time 1-day week job that will net just shy of 5K this year. I pay around 1K a month for rent and have about 56k remaining in private student loans. Does anyone have any advice for paying down my loans while growing my bank account? I also maintain a 403B and a Roth that I would consider increasing my contributions but would like to grow savings first due to the expensive city I live in.\n"
     ]
    },
    {
     "name": "stderr",
     "output_type": "stream",
     "text": [
      "100it [14:04,  7.68s/it]"
     ]
    },
    {
     "name": "stdout",
     "output_type": "stream",
     "text": [
      "Step 100/500 | Train Loss: 0.6277716326713562 | Test Loss: 0.7140910029411316 | LR: 5e-06 | RAM: 0.2 GB\n",
      "Correct: 9/9\n",
      "✅ [0.59] - Started searching for jobs and struggling to find anything\n",
      "✅ [0.64] - Just received a new job offer with a big pay raise!\n",
      "✅ [0.82] - How to find a good budgeting app?\n",
      "✅ [0.89] - Emotionally exhausted from this BS market\n",
      "I just need to rant. I never cried so much within a week until now. I have bills to pay, rent is over 2k for a studio, there are no jobs here. I am so tired because this job market is exhausting and everyone is saying its fine.\n",
      "✅ [0.73] - Coworker got a bigger raise than me.\n",
      "✅ [0.85] - Advice on choosing a career path.\n",
      "✅ [0.49] - As a recent college graduate, I thought it wouldn't be that hard to find a job that paid $20 an hour that but I was wrong. There are no entry level jobs in my field or any job that could potentially get my foot in the door pay so little. What is the point of having a college degree if full time jobs won't even allow me to move out and rent a room.\n",
      "✅ [0.74] - What would be considered a decent salary for an apartment costing $1000 per month?\n",
      "Title says it all. Whatâ€™s a decent one (while still having fun money, can save, feel comfortable)?? And what would be the minimum salary for the same apartment, where I could still get by, but fun would be decreased significantly/eating habits would change. \n",
      "✅ [0.93] - Pretty large raise at work\n",
      "I am a 24-year-old working as an HR Assistant/ Recruiter at a well-endowed Non-Profit. I finished an MBA (that was paid for in full by my org) I almost immediately received a massive raise that increased my comp from 50k to 65k. I also work a part-time 1-day week job that will net just shy of 5K this year. I pay around 1K a month for rent and have about 56k remaining in private student loans. Does anyone have any advice for paying down my loans while growing my bank account? I also maintain a 403B and a Roth that I would consider increasing my contributions but would like to grow savings first due to the expensive city I live in.\n"
     ]
    },
    {
     "name": "stderr",
     "output_type": "stream",
     "text": [
      "150it [20:56,  7.44s/it]"
     ]
    },
    {
     "name": "stdout",
     "output_type": "stream",
     "text": [
      "Step 150/500 | Train Loss: 0.5942437773942948 | Test Loss: 0.723609447479248 | LR: 5e-06 | RAM: 0.2 GB\n",
      "Correct: 8/9\n",
      "✅ [0.58] - Started searching for jobs and struggling to find anything\n",
      "✅ [0.69] - Just received a new job offer with a big pay raise!\n",
      "✅ [0.8] - How to find a good budgeting app?\n",
      "✅ [0.64] - Emotionally exhausted from this BS market\n",
      "I just need to rant. I never cried so much within a week until now. I have bills to pay, rent is over 2k for a studio, there are no jobs here. I am so tired because this job market is exhausting and everyone is saying its fine.\n",
      "✅ [0.75] - Coworker got a bigger raise than me.\n",
      "✅ [0.83] - Advice on choosing a career path.\n",
      "❌ [0.29] - As a recent college graduate, I thought it wouldn't be that hard to find a job that paid $20 an hour that but I was wrong. There are no entry level jobs in my field or any job that could potentially get my foot in the door pay so little. What is the point of having a college degree if full time jobs won't even allow me to move out and rent a room.\n",
      "✅ [0.73] - What would be considered a decent salary for an apartment costing $1000 per month?\n",
      "Title says it all. Whatâ€™s a decent one (while still having fun money, can save, feel comfortable)?? And what would be the minimum salary for the same apartment, where I could still get by, but fun would be decreased significantly/eating habits would change. \n",
      "✅ [0.93] - Pretty large raise at work\n",
      "I am a 24-year-old working as an HR Assistant/ Recruiter at a well-endowed Non-Profit. I finished an MBA (that was paid for in full by my org) I almost immediately received a massive raise that increased my comp from 50k to 65k. I also work a part-time 1-day week job that will net just shy of 5K this year. I pay around 1K a month for rent and have about 56k remaining in private student loans. Does anyone have any advice for paying down my loans while growing my bank account? I also maintain a 403B and a Roth that I would consider increasing my contributions but would like to grow savings first due to the expensive city I live in.\n"
     ]
    },
    {
     "name": "stderr",
     "output_type": "stream",
     "text": [
      "200it [28:03,  8.03s/it]"
     ]
    },
    {
     "name": "stdout",
     "output_type": "stream",
     "text": [
      "Step 200/500 | Train Loss: 0.5272528347373009 | Test Loss: 0.7443970441818237 | LR: 2.5e-06 | RAM: 0.2 GB\n",
      "Correct: 9/9\n",
      "✅ [0.8] - Started searching for jobs and struggling to find anything\n",
      "✅ [0.71] - Just received a new job offer with a big pay raise!\n",
      "✅ [0.82] - How to find a good budgeting app?\n",
      "✅ [0.82] - Emotionally exhausted from this BS market\n",
      "I just need to rant. I never cried so much within a week until now. I have bills to pay, rent is over 2k for a studio, there are no jobs here. I am so tired because this job market is exhausting and everyone is saying its fine.\n",
      "✅ [0.76] - Coworker got a bigger raise than me.\n",
      "✅ [0.86] - Advice on choosing a career path.\n",
      "✅ [0.6] - As a recent college graduate, I thought it wouldn't be that hard to find a job that paid $20 an hour that but I was wrong. There are no entry level jobs in my field or any job that could potentially get my foot in the door pay so little. What is the point of having a college degree if full time jobs won't even allow me to move out and rent a room.\n",
      "✅ [0.72] - What would be considered a decent salary for an apartment costing $1000 per month?\n",
      "Title says it all. Whatâ€™s a decent one (while still having fun money, can save, feel comfortable)?? And what would be the minimum salary for the same apartment, where I could still get by, but fun would be decreased significantly/eating habits would change. \n",
      "✅ [0.93] - Pretty large raise at work\n",
      "I am a 24-year-old working as an HR Assistant/ Recruiter at a well-endowed Non-Profit. I finished an MBA (that was paid for in full by my org) I almost immediately received a massive raise that increased my comp from 50k to 65k. I also work a part-time 1-day week job that will net just shy of 5K this year. I pay around 1K a month for rent and have about 56k remaining in private student loans. Does anyone have any advice for paying down my loans while growing my bank account? I also maintain a 403B and a Roth that I would consider increasing my contributions but would like to grow savings first due to the expensive city I live in.\n"
     ]
    },
    {
     "name": "stderr",
     "output_type": "stream",
     "text": [
      "250it [35:48,  8.55s/it]"
     ]
    },
    {
     "name": "stdout",
     "output_type": "stream",
     "text": [
      "Step 250/500 | Train Loss: 0.48544288098812105 | Test Loss: 0.7459377646446228 | LR: 2.5e-06 | RAM: 0.2 GB\n"
     ]
    },
    {
     "name": "stderr",
     "output_type": "stream",
     "text": [
      "251it [36:37, 20.73s/it]"
     ]
    },
    {
     "name": "stdout",
     "output_type": "stream",
     "text": [
      "Correct: 9/9\n",
      "✅ [0.84] - Started searching for jobs and struggling to find anything\n",
      "✅ [0.69] - Just received a new job offer with a big pay raise!\n",
      "✅ [0.83] - How to find a good budgeting app?\n",
      "✅ [0.91] - Emotionally exhausted from this BS market\n",
      "I just need to rant. I never cried so much within a week until now. I have bills to pay, rent is over 2k for a studio, there are no jobs here. I am so tired because this job market is exhausting and everyone is saying its fine.\n",
      "✅ [0.75] - Coworker got a bigger raise than me.\n",
      "✅ [0.84] - Advice on choosing a career path.\n",
      "✅ [0.7] - As a recent college graduate, I thought it wouldn't be that hard to find a job that paid $20 an hour that but I was wrong. There are no entry level jobs in my field or any job that could potentially get my foot in the door pay so little. What is the point of having a college degree if full time jobs won't even allow me to move out and rent a room.\n",
      "✅ [0.7] - What would be considered a decent salary for an apartment costing $1000 per month?\n",
      "Title says it all. Whatâ€™s a decent one (while still having fun money, can save, feel comfortable)?? And what would be the minimum salary for the same apartment, where I could still get by, but fun would be decreased significantly/eating habits would change. \n",
      "✅ [0.93] - Pretty large raise at work\n",
      "I am a 24-year-old working as an HR Assistant/ Recruiter at a well-endowed Non-Profit. I finished an MBA (that was paid for in full by my org) I almost immediately received a massive raise that increased my comp from 50k to 65k. I also work a part-time 1-day week job that will net just shy of 5K this year. I pay around 1K a month for rent and have about 56k remaining in private student loans. Does anyone have any advice for paying down my loans while growing my bank account? I also maintain a 403B and a Roth that I would consider increasing my contributions but would like to grow savings first due to the expensive city I live in.\n"
     ]
    },
    {
     "name": "stderr",
     "output_type": "stream",
     "text": [
      "300it [43:32,  8.43s/it]"
     ]
    },
    {
     "name": "stdout",
     "output_type": "stream",
     "text": [
      "Step 300/500 | Train Loss: 0.47515022963285447 | Test Loss: 0.7598693370819092 | LR: 2.5e-06 | RAM: 0.2 GB\n",
      "Correct: 8/9\n",
      "✅ [0.92] - Started searching for jobs and struggling to find anything\n",
      "✅ [0.77] - Just received a new job offer with a big pay raise!\n",
      "✅ [0.83] - How to find a good budgeting app?\n",
      "✅ [0.91] - Emotionally exhausted from this BS market\n",
      "I just need to rant. I never cried so much within a week until now. I have bills to pay, rent is over 2k for a studio, there are no jobs here. I am so tired because this job market is exhausting and everyone is saying its fine.\n",
      "✅ [0.81] - Coworker got a bigger raise than me.\n",
      "✅ [0.82] - Advice on choosing a career path.\n",
      "✅ [0.91] - As a recent college graduate, I thought it wouldn't be that hard to find a job that paid $20 an hour that but I was wrong. There are no entry level jobs in my field or any job that could potentially get my foot in the door pay so little. What is the point of having a college degree if full time jobs won't even allow me to move out and rent a room.\n",
      "❌ [0.27] - What would be considered a decent salary for an apartment costing $1000 per month?\n",
      "Title says it all. Whatâ€™s a decent one (while still having fun money, can save, feel comfortable)?? And what would be the minimum salary for the same apartment, where I could still get by, but fun would be decreased significantly/eating habits would change. \n",
      "✅ [0.93] - Pretty large raise at work\n",
      "I am a 24-year-old working as an HR Assistant/ Recruiter at a well-endowed Non-Profit. I finished an MBA (that was paid for in full by my org) I almost immediately received a massive raise that increased my comp from 50k to 65k. I also work a part-time 1-day week job that will net just shy of 5K this year. I pay around 1K a month for rent and have about 56k remaining in private student loans. Does anyone have any advice for paying down my loans while growing my bank account? I also maintain a 403B and a Roth that I would consider increasing my contributions but would like to grow savings first due to the expensive city I live in.\n"
     ]
    },
    {
     "name": "stderr",
     "output_type": "stream",
     "text": [
      "350it [55:57,  8.84s/it]"
     ]
    },
    {
     "name": "stdout",
     "output_type": "stream",
     "text": [
      "Step 350/500 | Train Loss: 0.48387493133544923 | Test Loss: 0.7379529476165771 | LR: 2.5e-06 | RAM: 0.2 GB\n"
     ]
    },
    {
     "name": "stderr",
     "output_type": "stream",
     "text": [
      "351it [56:48, 21.59s/it]"
     ]
    },
    {
     "name": "stdout",
     "output_type": "stream",
     "text": [
      "Correct: 9/9\n",
      "✅ [0.88] - Started searching for jobs and struggling to find anything\n",
      "✅ [0.77] - Just received a new job offer with a big pay raise!\n",
      "✅ [0.87] - How to find a good budgeting app?\n",
      "✅ [0.89] - Emotionally exhausted from this BS market\n",
      "I just need to rant. I never cried so much within a week until now. I have bills to pay, rent is over 2k for a studio, there are no jobs here. I am so tired because this job market is exhausting and everyone is saying its fine.\n",
      "✅ [0.79] - Coworker got a bigger raise than me.\n",
      "✅ [0.83] - Advice on choosing a career path.\n",
      "✅ [0.73] - As a recent college graduate, I thought it wouldn't be that hard to find a job that paid $20 an hour that but I was wrong. There are no entry level jobs in my field or any job that could potentially get my foot in the door pay so little. What is the point of having a college degree if full time jobs won't even allow me to move out and rent a room.\n",
      "✅ [0.49] - What would be considered a decent salary for an apartment costing $1000 per month?\n",
      "Title says it all. Whatâ€™s a decent one (while still having fun money, can save, feel comfortable)?? And what would be the minimum salary for the same apartment, where I could still get by, but fun would be decreased significantly/eating habits would change. \n",
      "✅ [0.94] - Pretty large raise at work\n",
      "I am a 24-year-old working as an HR Assistant/ Recruiter at a well-endowed Non-Profit. I finished an MBA (that was paid for in full by my org) I almost immediately received a massive raise that increased my comp from 50k to 65k. I also work a part-time 1-day week job that will net just shy of 5K this year. I pay around 1K a month for rent and have about 56k remaining in private student loans. Does anyone have any advice for paying down my loans while growing my bank account? I also maintain a 403B and a Roth that I would consider increasing my contributions but would like to grow savings first due to the expensive city I live in.\n"
     ]
    },
    {
     "name": "stderr",
     "output_type": "stream",
     "text": [
      "400it [1:03:52,  8.40s/it]"
     ]
    },
    {
     "name": "stdout",
     "output_type": "stream",
     "text": [
      "Step 400/500 | Train Loss: 0.5237972721457481 | Test Loss: 0.7496311664581299 | LR: 2.5e-06 | RAM: 0.2 GB\n",
      "Correct: 9/9\n",
      "✅ [0.81] - Started searching for jobs and struggling to find anything\n",
      "✅ [0.66] - Just received a new job offer with a big pay raise!\n",
      "✅ [0.88] - How to find a good budgeting app?\n",
      "✅ [0.89] - Emotionally exhausted from this BS market\n",
      "I just need to rant. I never cried so much within a week until now. I have bills to pay, rent is over 2k for a studio, there are no jobs here. I am so tired because this job market is exhausting and everyone is saying its fine.\n",
      "✅ [0.74] - Coworker got a bigger raise than me.\n",
      "✅ [0.85] - Advice on choosing a career path.\n",
      "✅ [0.6] - As a recent college graduate, I thought it wouldn't be that hard to find a job that paid $20 an hour that but I was wrong. There are no entry level jobs in my field or any job that could potentially get my foot in the door pay so little. What is the point of having a college degree if full time jobs won't even allow me to move out and rent a room.\n",
      "✅ [0.69] - What would be considered a decent salary for an apartment costing $1000 per month?\n",
      "Title says it all. Whatâ€™s a decent one (while still having fun money, can save, feel comfortable)?? And what would be the minimum salary for the same apartment, where I could still get by, but fun would be decreased significantly/eating habits would change. \n",
      "✅ [0.94] - Pretty large raise at work\n",
      "I am a 24-year-old working as an HR Assistant/ Recruiter at a well-endowed Non-Profit. I finished an MBA (that was paid for in full by my org) I almost immediately received a massive raise that increased my comp from 50k to 65k. I also work a part-time 1-day week job that will net just shy of 5K this year. I pay around 1K a month for rent and have about 56k remaining in private student loans. Does anyone have any advice for paying down my loans while growing my bank account? I also maintain a 403B and a Roth that I would consider increasing my contributions but would like to grow savings first due to the expensive city I live in.\n"
     ]
    },
    {
     "name": "stderr",
     "output_type": "stream",
     "text": [
      "418it [1:07:18,  9.66s/it]\n"
     ]
    },
    {
     "ename": "KeyboardInterrupt",
     "evalue": "",
     "output_type": "error",
     "traceback": [
      "\u001b[1;31m---------------------------------------------------------------------------\u001b[0m",
      "\u001b[1;31mKeyboardInterrupt\u001b[0m                         Traceback (most recent call last)",
      "Cell \u001b[1;32mIn[9], line 30\u001b[0m\n\u001b[0;32m     27\u001b[0m scheduler\u001b[38;5;241m.\u001b[39mstep()\n\u001b[0;32m     29\u001b[0m \u001b[38;5;66;03m# Logging and eval\u001b[39;00m\n\u001b[1;32m---> 30\u001b[0m epoch_loss \u001b[38;5;241m=\u001b[39m epoch_loss \u001b[38;5;241m+\u001b[39m \u001b[43mloss\u001b[49m\u001b[38;5;241;43m.\u001b[39;49m\u001b[43mitem\u001b[49m\u001b[43m(\u001b[49m\u001b[43m)\u001b[49m\n\u001b[0;32m     31\u001b[0m train_losses\u001b[38;5;241m.\u001b[39mappend({\u001b[38;5;124m'\u001b[39m\u001b[38;5;124mepoch\u001b[39m\u001b[38;5;124m'\u001b[39m: epoch, \u001b[38;5;124m'\u001b[39m\u001b[38;5;124mstep\u001b[39m\u001b[38;5;124m'\u001b[39m: step, \u001b[38;5;124m'\u001b[39m\u001b[38;5;124mloss\u001b[39m\u001b[38;5;124m'\u001b[39m: loss\u001b[38;5;241m.\u001b[39mitem()})\n\u001b[0;32m     32\u001b[0m \u001b[38;5;28;01mif\u001b[39;00m step \u001b[38;5;241m%\u001b[39m \u001b[38;5;241m50\u001b[39m \u001b[38;5;241m==\u001b[39m \u001b[38;5;241m0\u001b[39m \u001b[38;5;129;01mand\u001b[39;00m (step \u001b[38;5;241m>\u001b[39m \u001b[38;5;241m0\u001b[39m \u001b[38;5;129;01mor\u001b[39;00m epoch \u001b[38;5;241m>\u001b[39m \u001b[38;5;241m0\u001b[39m): \n",
      "\u001b[1;31mKeyboardInterrupt\u001b[0m: "
     ]
    }
   ],
   "source": [
    "# Known to work well: 3e-5 with no clipping; 2e-5 with clipping, gamma=.5\n",
    "train_losses = []\n",
    "test_losses = []\n",
    "\n",
    "f = plotly.graph_objects.FigureWidget().add_scatter(name = 'train', x = [], y = []).add_scatter(name = 'test', x = [], y = [])\n",
    "for e in range(conf['epochs']): f.add_vline(x = e * len(train_dl))\n",
    "display(f)\n",
    "\n",
    "for epoch in range(conf['epochs']):\n",
    "    print(f'***** Epoch {epoch + 1} ')\n",
    "    torch.cuda.empty_cache() \n",
    "    model.train()\n",
    "    epoch_loss = 0\n",
    "    \n",
    "    for step, batch in tqdm(enumerate(train_dl)):\n",
    "        \n",
    "        optimizer.zero_grad()\n",
    "        outputs = model(batch['input_ids'].to(device), batch['attention_mask'].to(device))\n",
    "        loss = F.cross_entropy(outputs['logits'], batch['labels'].to(device))\n",
    "    \n",
    "        loss.backward()\n",
    "        \n",
    "        if conf['clip']:\n",
    "            torch.nn.utils.clip_grad_norm_(model.parameters(), 1.0)\n",
    "            \n",
    "        optimizer.step()\n",
    "        scheduler.step()\n",
    "\n",
    "        # Logging and eval\n",
    "        epoch_loss = epoch_loss + loss.item()\n",
    "        train_losses.append({'epoch': epoch, 'step': step, 'loss': loss.item()})\n",
    "        if step % 50 == 0 and (step > 0 or epoch > 0): \n",
    "            test_eval_res = eval_performance(model, test_ds, device, batch_size = 16, verbose = False)\n",
    "            test_losses.append({'epoch': epoch, 'step': step, 'loss': test_eval_res['mean_nll']})\n",
    "            print(\n",
    "                f\"Step {step}/{len(train_dl)} | \" +\n",
    "                f\"Train Loss: {np.mean([t['loss'] for t in train_losses][-50:])} | Test Loss: {test_losses[-1]['loss']} | \" +\n",
    "                f\"LR: {optimizer.param_groups[0]['lr']} | RAM: {round(torch.cuda.memory_allocated(0)/1024**3,1)} GB\"\n",
    "            )\n",
    "            print(eval_performance_as_str(model, examples_ds, device))\n",
    "            # Update graph\n",
    "            losses_df = pd.concat([\n",
    "                pd.DataFrame(train_losses).assign(type = 'train', loss = lambda df: df['loss'].rolling(window = 50).mean()).dropna(axis = 0),\n",
    "                pd.DataFrame(test_losses).assign(type = 'test')\n",
    "            ]).assign(i = lambda df: (df['epoch'] * len(train_dl)) + df['step'] + 1)     \n",
    "            f.data[0].x, f.data[1].x = [losses_df[losses_df['type'] == j]['i'].tolist() for j in ['train', 'test']]\n",
    "            f.data[0].y, f.data[1].y = [losses_df[losses_df['type'] == j]['loss'].tolist() for j in ['train', 'test']]\n",
    "\n",
    "        # Save ts and ckpt \n",
    "        if step % 100 == 0 and (step > 0 or epoch > 0):\n",
    "            torch.save({\n",
    "                'epoch': epoch, 'step': step, 'model_state_dict': model.state_dict(), 'optimizer_state_dict': optimizer.state_dict(),\n",
    "                'train_losses': train_losses, 'test_losses': test_losses\n",
    "            }, f\"{save_dir}/epoch_{str(epoch).rjust(3, '0')}_step_{str(step).rjust(5, '0')}.ckpt\")\n",
    "            \n",
    "            model.eval()\n",
    "            ex = next(iter(test_dl))\n",
    "            model_scripted = torch.jit.trace(model, (ex['input_ids'].to(device), ex['attention_mask'].to(device)), strict = False)\n",
    "            model_scripted.save(f\"{save_dir}/epoch_{str(epoch).rjust(3, '0')}_step_{str(step).rjust(5, '0')}.pt\")\n",
    "            model.train()"
   ]
  },
  {
   "cell_type": "code",
   "execution_count": null,
   "id": "06d106e5-36e3-496a-a604-56cf8d703c9b",
   "metadata": {},
   "outputs": [],
   "source": [
    "# from peft import LoraConfig, TaskType, get_peft_model\n",
    "\n",
    "# lora_config = LoraConfig(\n",
    "#     task_type = TaskType.SEQ_CLS, r = 4, lora_alpha = 1, lora_dropout = 0.1\n",
    "# )\n",
    "\n",
    "# model = get_peft_model(model, lora_config)\n",
    "# model.print_trainable_parameters()\n",
    "# print(model.roberta.encoder.layer[0].attention.self)"
   ]
  }
 ],
 "metadata": {
  "kernelspec": {
   "display_name": "Python 3 (ipykernel)",
   "language": "python",
   "name": "python3"
  },
  "language_info": {
   "codemirror_mode": {
    "name": "ipython",
    "version": 3
   },
   "file_extension": ".py",
   "mimetype": "text/x-python",
   "name": "python",
   "nbconvert_exporter": "python",
   "pygments_lexer": "ipython3",
   "version": "3.11.5"
  }
 },
 "nbformat": 4,
 "nbformat_minor": 5
}
